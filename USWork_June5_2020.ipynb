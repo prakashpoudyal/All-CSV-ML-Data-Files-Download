{
  "nbformat": 4,
  "nbformat_minor": 0,
  "metadata": {
    "colab": {
      "name": "USWork_June5_2020.ipynb",
      "provenance": [],
      "collapsed_sections": [],
      "authorship_tag": "ABX9TyNTQkoi+fDvUMFQDqCY+cYQ",
      "include_colab_link": true
    },
    "kernelspec": {
      "name": "python3",
      "display_name": "Python 3"
    }
  },
  "cells": [
    {
      "cell_type": "markdown",
      "metadata": {
        "id": "view-in-github",
        "colab_type": "text"
      },
      "source": [
        "<a href=\"https://colab.research.google.com/github/prakashpoudyal/All-CSV-ML-Data-Files-Download/blob/master/USWork_June5_2020.ipynb\" target=\"_parent\"><img src=\"https://colab.research.google.com/assets/colab-badge.svg\" alt=\"Open In Colab\"/></a>"
      ]
    },
    {
      "cell_type": "code",
      "metadata": {
        "id": "n0SklFd15cP9",
        "colab_type": "code",
        "colab": {
          "base_uri": "https://localhost:8080/",
          "height": 139
        },
        "outputId": "ed34c0d8-83f8-4cd3-b31d-64b07d0903c3"
      },
      "source": [
        "!pip install bert-for-tf2\n",
        "!pip install sentencepiece"
      ],
      "execution_count": 1,
      "outputs": [
        {
          "output_type": "stream",
          "text": [
            "Requirement already satisfied: bert-for-tf2 in /usr/local/lib/python3.6/dist-packages (0.14.4)\n",
            "Requirement already satisfied: params-flow>=0.8.0 in /usr/local/lib/python3.6/dist-packages (from bert-for-tf2) (0.8.2)\n",
            "Requirement already satisfied: py-params>=0.9.6 in /usr/local/lib/python3.6/dist-packages (from bert-for-tf2) (0.9.7)\n",
            "Requirement already satisfied: tqdm in /usr/local/lib/python3.6/dist-packages (from params-flow>=0.8.0->bert-for-tf2) (4.41.1)\n",
            "Requirement already satisfied: numpy in /usr/local/lib/python3.6/dist-packages (from params-flow>=0.8.0->bert-for-tf2) (1.18.4)\n",
            "Requirement already satisfied: sentencepiece in /usr/local/lib/python3.6/dist-packages (0.1.91)\n"
          ],
          "name": "stdout"
        }
      ]
    },
    {
      "cell_type": "code",
      "metadata": {
        "id": "SV6ddZyrzGU0",
        "colab_type": "code",
        "outputId": "689da569-2197-4894-da01-868ca390d1fe",
        "colab": {
          "base_uri": "https://localhost:8080/",
          "height": 204
        }
      },
      "source": [
        "#Load the Pandas Libraries with alias 'pd'\n",
        "import pandas as pd\n",
        "\n",
        "data=pd.read_csv('/content/caselawv3.csv',error_bad_lines=True, encoding='latin1')\n",
        "#data=pd.read_csv('/content/sampleTry.csv',error_bad_lines=True, encoding='latin1')\n",
        "data.head()"
      ],
      "execution_count": 2,
      "outputs": [
        {
          "output_type": "execute_result",
          "data": {
            "text/html": [
              "<div>\n",
              "<style scoped>\n",
              "    .dataframe tbody tr th:only-of-type {\n",
              "        vertical-align: middle;\n",
              "    }\n",
              "\n",
              "    .dataframe tbody tr th {\n",
              "        vertical-align: top;\n",
              "    }\n",
              "\n",
              "    .dataframe thead th {\n",
              "        text-align: right;\n",
              "    }\n",
              "</style>\n",
              "<table border=\"1\" class=\"dataframe\">\n",
              "  <thead>\n",
              "    <tr style=\"text-align: right;\">\n",
              "      <th></th>\n",
              "      <th>ArgNonArg</th>\n",
              "      <th>Part</th>\n",
              "      <th>Code</th>\n",
              "      <th>Sentence</th>\n",
              "    </tr>\n",
              "  </thead>\n",
              "  <tbody>\n",
              "    <tr>\n",
              "      <th>0</th>\n",
              "      <td>0</td>\n",
              "      <td>Empty</td>\n",
              "      <td>Empty</td>\n",
              "      <td>The Examining Attorney has preliminarily refus...</td>\n",
              "    </tr>\n",
              "    <tr>\n",
              "      <th>1</th>\n",
              "      <td>0</td>\n",
              "      <td>Empty</td>\n",
              "      <td>Empty</td>\n",
              "      <td>Applicant respectfully requests that the Exami...</td>\n",
              "    </tr>\n",
              "    <tr>\n",
              "      <th>2</th>\n",
              "      <td>0</td>\n",
              "      <td>Empty</td>\n",
              "      <td>Empty</td>\n",
              "      <td>As discussed more fully below\",\" confusion bet...</td>\n",
              "    </tr>\n",
              "    <tr>\n",
              "      <th>3</th>\n",
              "      <td>1</td>\n",
              "      <td>PartA</td>\n",
              "      <td>MR157</td>\n",
              "      <td>First\",\" Applicant's and Green Bay's long-stan...</td>\n",
              "    </tr>\n",
              "    <tr>\n",
              "      <th>4</th>\n",
              "      <td>1</td>\n",
              "      <td>PartA</td>\n",
              "      <td>MR157</td>\n",
              "      <td>Importantly\",\" in 1983 Applicant and Green Bay...</td>\n",
              "    </tr>\n",
              "  </tbody>\n",
              "</table>\n",
              "</div>"
            ],
            "text/plain": [
              "   ArgNonArg   Part   Code                                           Sentence\n",
              "0          0  Empty  Empty  The Examining Attorney has preliminarily refus...\n",
              "1          0  Empty  Empty  Applicant respectfully requests that the Exami...\n",
              "2          0  Empty  Empty  As discussed more fully below\",\" confusion bet...\n",
              "3          1  PartA  MR157  First\",\" Applicant's and Green Bay's long-stan...\n",
              "4          1  PartA  MR157  Importantly\",\" in 1983 Applicant and Green Bay..."
            ]
          },
          "metadata": {
            "tags": []
          },
          "execution_count": 2
        }
      ]
    },
    {
      "cell_type": "code",
      "metadata": {
        "id": "B28FVysI5qef",
        "colab_type": "code",
        "colab": {}
      },
      "source": [
        "import tensorflow as tf\n",
        "import tensorflow_hub as hub\n",
        "from tensorflow.keras import layers\n",
        "import bert"
      ],
      "execution_count": 0,
      "outputs": []
    },
    {
      "cell_type": "code",
      "metadata": {
        "id": "_4Gwidq46iZA",
        "colab_type": "code",
        "colab": {
          "base_uri": "https://localhost:8080/",
          "height": 34
        },
        "outputId": "3b70c41a-e9c5-42c2-b07d-7e60f7eb7732"
      },
      "source": [
        "data.shape"
      ],
      "execution_count": 4,
      "outputs": [
        {
          "output_type": "execute_result",
          "data": {
            "text/plain": [
              "(142, 4)"
            ]
          },
          "metadata": {
            "tags": []
          },
          "execution_count": 4
        }
      ]
    },
    {
      "cell_type": "code",
      "metadata": {
        "id": "AgEtowwz5Pch",
        "colab_type": "code",
        "colab": {
          "base_uri": "https://localhost:8080/",
          "height": 357
        },
        "outputId": "e275a921-acc7-4386-f8bf-24d423334874"
      },
      "source": [
        "!wget http://nlp.stanford.edu/data/glove.6B.zip"
      ],
      "execution_count": 16,
      "outputs": [
        {
          "output_type": "stream",
          "text": [
            "--2020-06-05 12:40:24--  http://nlp.stanford.edu/data/glove.6B.zip\n",
            "Resolving nlp.stanford.edu (nlp.stanford.edu)... 171.64.67.140\n",
            "Connecting to nlp.stanford.edu (nlp.stanford.edu)|171.64.67.140|:80... connected.\n",
            "HTTP request sent, awaiting response... 302 Found\n",
            "Location: https://nlp.stanford.edu/data/glove.6B.zip [following]\n",
            "--2020-06-05 12:40:24--  https://nlp.stanford.edu/data/glove.6B.zip\n",
            "Connecting to nlp.stanford.edu (nlp.stanford.edu)|171.64.67.140|:443... connected.\n",
            "HTTP request sent, awaiting response... 301 Moved Permanently\n",
            "Location: http://downloads.cs.stanford.edu/nlp/data/glove.6B.zip [following]\n",
            "--2020-06-05 12:40:24--  http://downloads.cs.stanford.edu/nlp/data/glove.6B.zip\n",
            "Resolving downloads.cs.stanford.edu (downloads.cs.stanford.edu)... 171.64.64.22\n",
            "Connecting to downloads.cs.stanford.edu (downloads.cs.stanford.edu)|171.64.64.22|:80... connected.\n",
            "HTTP request sent, awaiting response... 200 OK\n",
            "Length: 862182613 (822M) [application/zip]\n",
            "Saving to: ‘glove.6B.zip’\n",
            "\n",
            "glove.6B.zip        100%[===================>] 822.24M  1.99MB/s    in 6m 27s  \n",
            "\n",
            "2020-06-05 12:46:52 (2.12 MB/s) - ‘glove.6B.zip’ saved [862182613/862182613]\n",
            "\n"
          ],
          "name": "stdout"
        }
      ]
    },
    {
      "cell_type": "code",
      "metadata": {
        "id": "XOdydOw-7m1b",
        "colab_type": "code",
        "colab": {
          "base_uri": "https://localhost:8080/",
          "height": 34
        },
        "outputId": "4c0c57a1-2ff4-4891-a60a-3a861a5830bd"
      },
      "source": [
        "from zipfile import ZipFile\n",
        "file_name_glove='/content/glove.6B.zip'\n",
        "\n",
        "with ZipFile(file_name_glove,'r') as zip:\n",
        "  zip.extractall()\n",
        "  print('Done')"
      ],
      "execution_count": 17,
      "outputs": [
        {
          "output_type": "stream",
          "text": [
            "Done\n"
          ],
          "name": "stdout"
        }
      ]
    },
    {
      "cell_type": "code",
      "metadata": {
        "id": "PsawrmjM55Jw",
        "colab_type": "code",
        "colab": {
          "base_uri": "https://localhost:8080/",
          "height": 34
        },
        "outputId": "8393515a-4e7e-4774-acca-76b2501b37c8"
      },
      "source": [
        "!mkdir glove_folder"
      ],
      "execution_count": 6,
      "outputs": [
        {
          "output_type": "stream",
          "text": [
            "mkdir: cannot create directory ‘glove_folder’: File exists\n"
          ],
          "name": "stdout"
        }
      ]
    },
    {
      "cell_type": "code",
      "metadata": {
        "id": "MOBlqQq67gpM",
        "colab_type": "code",
        "colab": {}
      },
      "source": [
        "!mv glove.* glove_folder/ "
      ],
      "execution_count": 0,
      "outputs": []
    },
    {
      "cell_type": "code",
      "metadata": {
        "id": "ZKZ-RaVd7iWp",
        "colab_type": "code",
        "colab": {}
      },
      "source": [
        "!cd glove_folder"
      ],
      "execution_count": 0,
      "outputs": []
    },
    {
      "cell_type": "code",
      "metadata": {
        "id": "mHzKMRTq7utE",
        "colab_type": "code",
        "colab": {
          "base_uri": "https://localhost:8080/",
          "height": 34
        },
        "outputId": "09c7b64f-a225-4141-d109-73bec8f5dc8c"
      },
      "source": [
        "import pandas as pd\n",
        "import numpy as np\n",
        "import re\n",
        "import nltk\n",
        "from nltk.corpus import stopwords\n",
        "\n",
        "from numpy import array\n",
        "from keras.preprocessing.text import one_hot\n",
        "from keras.preprocessing.sequence import pad_sequences\n",
        "from keras.models import Sequential\n",
        "from keras.layers.core import Activation, Dropout, Dense\n",
        "from keras.layers import Flatten\n",
        "from keras.layers import GlobalMaxPooling1D\n",
        "from keras.layers.embeddings import Embedding\n",
        "from sklearn.model_selection import train_test_split\n",
        "from keras.preprocessing.text import Tokenizer"
      ],
      "execution_count": 19,
      "outputs": [
        {
          "output_type": "stream",
          "text": [
            "Using TensorFlow backend.\n"
          ],
          "name": "stderr"
        }
      ]
    },
    {
      "cell_type": "code",
      "metadata": {
        "id": "YsOSntEi8ARV",
        "colab_type": "code",
        "colab": {
          "base_uri": "https://localhost:8080/",
          "height": 34
        },
        "outputId": "3ad54ac8-bdf5-48e8-b8b0-e5986862d8c5"
      },
      "source": [
        "from tensorflow.keras.layers import Conv1D, MaxPool1D, Flatten,Dense, Dropout,BatchNormalization\n",
        "from tensorflow.keras.optimizers import Adam \n",
        "print(tf.__version__)"
      ],
      "execution_count": 20,
      "outputs": [
        {
          "output_type": "stream",
          "text": [
            "2.2.0\n"
          ],
          "name": "stdout"
        }
      ]
    },
    {
      "cell_type": "code",
      "metadata": {
        "id": "ghw-vZcOYrCH",
        "colab_type": "code",
        "colab": {}
      },
      "source": [
        ""
      ],
      "execution_count": 0,
      "outputs": []
    },
    {
      "cell_type": "code",
      "metadata": {
        "id": "A5nje5KY8GXi",
        "colab_type": "code",
        "colab": {}
      },
      "source": [
        "caselaw =pd.read_csv('/content/caselawv3.csv',encoding='latin1')"
      ],
      "execution_count": 0,
      "outputs": []
    },
    {
      "cell_type": "code",
      "metadata": {
        "id": "YPjOoYnp8Q0f",
        "colab_type": "code",
        "colab": {
          "base_uri": "https://localhost:8080/",
          "height": 34
        },
        "outputId": "8fc0b3d0-2e87-43c6-93eb-a7b5c7dcd389"
      },
      "source": [
        "caselaw.isnull().values.any()"
      ],
      "execution_count": 22,
      "outputs": [
        {
          "output_type": "execute_result",
          "data": {
            "text/plain": [
              "False"
            ]
          },
          "metadata": {
            "tags": []
          },
          "execution_count": 22
        }
      ]
    },
    {
      "cell_type": "code",
      "metadata": {
        "id": "OHu6zP0-8cJc",
        "colab_type": "code",
        "colab": {
          "base_uri": "https://localhost:8080/",
          "height": 34
        },
        "outputId": "992e4d57-ecc4-4068-e164-2995d5596fc6"
      },
      "source": [
        "caselaw.shape"
      ],
      "execution_count": 23,
      "outputs": [
        {
          "output_type": "execute_result",
          "data": {
            "text/plain": [
              "(142, 4)"
            ]
          },
          "metadata": {
            "tags": []
          },
          "execution_count": 23
        }
      ]
    },
    {
      "cell_type": "code",
      "metadata": {
        "id": "2jWQqeR78i-K",
        "colab_type": "code",
        "colab": {
          "base_uri": "https://localhost:8080/",
          "height": 419
        },
        "outputId": "e11bbae7-95e5-4283-b190-f879a65bc348"
      },
      "source": [
        "caselaw.drop(columns=['Part','Code'])"
      ],
      "execution_count": 24,
      "outputs": [
        {
          "output_type": "execute_result",
          "data": {
            "text/html": [
              "<div>\n",
              "<style scoped>\n",
              "    .dataframe tbody tr th:only-of-type {\n",
              "        vertical-align: middle;\n",
              "    }\n",
              "\n",
              "    .dataframe tbody tr th {\n",
              "        vertical-align: top;\n",
              "    }\n",
              "\n",
              "    .dataframe thead th {\n",
              "        text-align: right;\n",
              "    }\n",
              "</style>\n",
              "<table border=\"1\" class=\"dataframe\">\n",
              "  <thead>\n",
              "    <tr style=\"text-align: right;\">\n",
              "      <th></th>\n",
              "      <th>ArgNonArg</th>\n",
              "      <th>Sentence</th>\n",
              "    </tr>\n",
              "  </thead>\n",
              "  <tbody>\n",
              "    <tr>\n",
              "      <th>0</th>\n",
              "      <td>0</td>\n",
              "      <td>The Examining Attorney has preliminarily refus...</td>\n",
              "    </tr>\n",
              "    <tr>\n",
              "      <th>1</th>\n",
              "      <td>0</td>\n",
              "      <td>Applicant respectfully requests that the Exami...</td>\n",
              "    </tr>\n",
              "    <tr>\n",
              "      <th>2</th>\n",
              "      <td>0</td>\n",
              "      <td>As discussed more fully below\",\" confusion bet...</td>\n",
              "    </tr>\n",
              "    <tr>\n",
              "      <th>3</th>\n",
              "      <td>1</td>\n",
              "      <td>First\",\" Applicant's and Green Bay's long-stan...</td>\n",
              "    </tr>\n",
              "    <tr>\n",
              "      <th>4</th>\n",
              "      <td>1</td>\n",
              "      <td>Importantly\",\" in 1983 Applicant and Green Bay...</td>\n",
              "    </tr>\n",
              "    <tr>\n",
              "      <th>...</th>\n",
              "      <td>...</td>\n",
              "      <td>...</td>\n",
              "    </tr>\n",
              "    <tr>\n",
              "      <th>137</th>\n",
              "      <td>1</td>\n",
              "      <td>On the amended drawing\",\" the color red appear...</td>\n",
              "    </tr>\n",
              "    <tr>\n",
              "      <th>138</th>\n",
              "      <td>0</td>\n",
              "      <td>Applicant has submitted amended identification...</td>\n",
              "    </tr>\n",
              "    <tr>\n",
              "      <th>139</th>\n",
              "      <td>0</td>\n",
              "      <td>Applicant believes that the application is now...</td>\n",
              "    </tr>\n",
              "    <tr>\n",
              "      <th>140</th>\n",
              "      <td>0</td>\n",
              "      <td>Therefore\",\" Applicant respectfully requests t...</td>\n",
              "    </tr>\n",
              "    <tr>\n",
              "      <th>141</th>\n",
              "      <td>0</td>\n",
              "      <td>Date: ~512co5 -17-Respectfully submitted\",\" Th...</td>\n",
              "    </tr>\n",
              "  </tbody>\n",
              "</table>\n",
              "<p>142 rows × 2 columns</p>\n",
              "</div>"
            ],
            "text/plain": [
              "     ArgNonArg                                           Sentence\n",
              "0            0  The Examining Attorney has preliminarily refus...\n",
              "1            0  Applicant respectfully requests that the Exami...\n",
              "2            0  As discussed more fully below\",\" confusion bet...\n",
              "3            1  First\",\" Applicant's and Green Bay's long-stan...\n",
              "4            1  Importantly\",\" in 1983 Applicant and Green Bay...\n",
              "..         ...                                                ...\n",
              "137          1  On the amended drawing\",\" the color red appear...\n",
              "138          0  Applicant has submitted amended identification...\n",
              "139          0  Applicant believes that the application is now...\n",
              "140          0  Therefore\",\" Applicant respectfully requests t...\n",
              "141          0  Date: ~512co5 -17-Respectfully submitted\",\" Th...\n",
              "\n",
              "[142 rows x 2 columns]"
            ]
          },
          "metadata": {
            "tags": []
          },
          "execution_count": 24
        }
      ]
    },
    {
      "cell_type": "markdown",
      "metadata": {
        "id": "Xw6rO2O88x2w",
        "colab_type": "text"
      },
      "source": [
        "### **`Classification of Argument vs NonArgument`**"
      ]
    },
    {
      "cell_type": "code",
      "metadata": {
        "id": "dqcIfHTs87yX",
        "colab_type": "code",
        "colab": {
          "base_uri": "https://localhost:8080/",
          "height": 204
        },
        "outputId": "8347e1f5-0c5a-42c8-ceab-4c30973c85f6"
      },
      "source": [
        "caselaw.head()"
      ],
      "execution_count": 25,
      "outputs": [
        {
          "output_type": "execute_result",
          "data": {
            "text/html": [
              "<div>\n",
              "<style scoped>\n",
              "    .dataframe tbody tr th:only-of-type {\n",
              "        vertical-align: middle;\n",
              "    }\n",
              "\n",
              "    .dataframe tbody tr th {\n",
              "        vertical-align: top;\n",
              "    }\n",
              "\n",
              "    .dataframe thead th {\n",
              "        text-align: right;\n",
              "    }\n",
              "</style>\n",
              "<table border=\"1\" class=\"dataframe\">\n",
              "  <thead>\n",
              "    <tr style=\"text-align: right;\">\n",
              "      <th></th>\n",
              "      <th>ArgNonArg</th>\n",
              "      <th>Part</th>\n",
              "      <th>Code</th>\n",
              "      <th>Sentence</th>\n",
              "    </tr>\n",
              "  </thead>\n",
              "  <tbody>\n",
              "    <tr>\n",
              "      <th>0</th>\n",
              "      <td>0</td>\n",
              "      <td>Empty</td>\n",
              "      <td>Empty</td>\n",
              "      <td>The Examining Attorney has preliminarily refus...</td>\n",
              "    </tr>\n",
              "    <tr>\n",
              "      <th>1</th>\n",
              "      <td>0</td>\n",
              "      <td>Empty</td>\n",
              "      <td>Empty</td>\n",
              "      <td>Applicant respectfully requests that the Exami...</td>\n",
              "    </tr>\n",
              "    <tr>\n",
              "      <th>2</th>\n",
              "      <td>0</td>\n",
              "      <td>Empty</td>\n",
              "      <td>Empty</td>\n",
              "      <td>As discussed more fully below\",\" confusion bet...</td>\n",
              "    </tr>\n",
              "    <tr>\n",
              "      <th>3</th>\n",
              "      <td>1</td>\n",
              "      <td>PartA</td>\n",
              "      <td>MR157</td>\n",
              "      <td>First\",\" Applicant's and Green Bay's long-stan...</td>\n",
              "    </tr>\n",
              "    <tr>\n",
              "      <th>4</th>\n",
              "      <td>1</td>\n",
              "      <td>PartA</td>\n",
              "      <td>MR157</td>\n",
              "      <td>Importantly\",\" in 1983 Applicant and Green Bay...</td>\n",
              "    </tr>\n",
              "  </tbody>\n",
              "</table>\n",
              "</div>"
            ],
            "text/plain": [
              "   ArgNonArg   Part   Code                                           Sentence\n",
              "0          0  Empty  Empty  The Examining Attorney has preliminarily refus...\n",
              "1          0  Empty  Empty  Applicant respectfully requests that the Exami...\n",
              "2          0  Empty  Empty  As discussed more fully below\",\" confusion bet...\n",
              "3          1  PartA  MR157  First\",\" Applicant's and Green Bay's long-stan...\n",
              "4          1  PartA  MR157  Importantly\",\" in 1983 Applicant and Green Bay..."
            ]
          },
          "metadata": {
            "tags": []
          },
          "execution_count": 25
        }
      ]
    },
    {
      "cell_type": "code",
      "metadata": {
        "id": "dTP_TZye9j0R",
        "colab_type": "code",
        "colab": {
          "base_uri": "https://localhost:8080/",
          "height": 350
        },
        "outputId": "c4749add-357d-47cd-fb50-3453865d2d72"
      },
      "source": [
        "import seaborn as sns\n",
        "sns.countplot(x='ArgNonArg', data=caselaw)"
      ],
      "execution_count": 26,
      "outputs": [
        {
          "output_type": "stream",
          "text": [
            "/usr/local/lib/python3.6/dist-packages/statsmodels/tools/_testing.py:19: FutureWarning: pandas.util.testing is deprecated. Use the functions in the public API at pandas.testing instead.\n",
            "  import pandas.util.testing as tm\n"
          ],
          "name": "stderr"
        },
        {
          "output_type": "execute_result",
          "data": {
            "text/plain": [
              "<matplotlib.axes._subplots.AxesSubplot at 0x7fb93f988d68>"
            ]
          },
          "metadata": {
            "tags": []
          },
          "execution_count": 26
        },
        {
          "output_type": "display_data",
          "data": {
            "image/png": "[encoded data removed]",
            "text/plain": [
              "<Figure size 432x288 with 1 Axes>"
            ]
          },
          "metadata": {
            "tags": [],
            "needs_background": "light"
          }
        }
      ]
    },
    {
      "cell_type": "code",
      "metadata": {
        "id": "vFjl8fPtCt1p",
        "colab_type": "code",
        "colab": {}
      },
      "source": [
        "def preprocess_text(sen):\n",
        "  sentence=remove_tags(sen)\n",
        "  sentence=re.sub('[^a-zA-Z]',' ',sentence)\n",
        "  sentence=re.sub(r\"\\s+[a-zA-Z]\\s+\", ' ',sentence)\n",
        "  sentence=re.sub(r'\\s+',' ', sentence)\n",
        "  return sentence"
      ],
      "execution_count": 0,
      "outputs": []
    },
    {
      "cell_type": "code",
      "metadata": {
        "id": "ZQcC-MPNDdo-",
        "colab_type": "code",
        "colab": {}
      },
      "source": [
        "TAG_RE=re.compile(r'<[^>]+>')\n",
        "\n",
        "def remove_tags(caselaw):\n",
        "  return TAG_RE.sub(' ',caselaw)"
      ],
      "execution_count": 0,
      "outputs": []
    },
    {
      "cell_type": "code",
      "metadata": {
        "id": "xp21r1jVDlh4",
        "colab_type": "code",
        "colab": {}
      },
      "source": [
        "X=[]\n",
        "sentences=list(caselaw['Sentence'])\n",
        "for sen in sentences:\n",
        "  X.append(preprocess_text(sen))"
      ],
      "execution_count": 0,
      "outputs": []
    },
    {
      "cell_type": "code",
      "metadata": {
        "id": "WC9Y9cbLDyA8",
        "colab_type": "code",
        "colab": {
          "base_uri": "https://localhost:8080/",
          "height": 1000
        },
        "outputId": "da68a5c1-4c10-47df-a13b-7258ed293253"
      },
      "source": [
        "X"
      ],
      "execution_count": 30,
      "outputs": [
        {
          "output_type": "execute_result",
          "data": {
            "text/plain": [
              "['The Examining Attorney has preliminarily refused registration of Applicant Mark under Section of the Lanham Act on the grounds that Applicant Mark when used on or in connection with the identified soods is likely to be confused with two football helmet design marks that are the subjects of S Registration No and S Registration No the Cited Marks for goods and services in various classes which are owned by Green Bay Packers Inc Lombardi Ave Green Bay Wisconsin Green Bay ',\n",
              " 'Applicant respectfully requests that the Examining Attorney reconsider his preliminary conclusions regarding likelihood of confusion based on similarity of the marks and or relatedness of goods ',\n",
              " 'As discussed more fully below confusion between Applicant Mark and the Cited Marks is not likely for number ofreasons ',\n",
              " 'First Applicant and Green Bay long standing concurrent use of one version of their respective marks for more than years and use of modernized versions of their respective marks for more than years for the same goods and services confirms that confusion is not likely ',\n",
              " 'Importantly in Applicant and Green Bay entered into an Agreement that recognizes this longstanding concurrent use and describ es the means by which the University and Green Bay have in the past and will continue in the future to avoid confusion between the uses of their respective marks ',\n",
              " 'The empirical evidence of absence of any likelihood of confusion is not surprising particularly given the large number of marks incorporating football helmets for wide variety of goods and services including the goods identified in the Subject Application ',\n",
              " 'These multiple registrations and third party uses coexist on the Principal Register and in the marketplace ',\n",
              " 'Furthennore Applicant Mark and the Cited Marks both for goods and services offered by sports teams are marketed in manner and to sophisticated buyers such that confusion is not likely ',\n",
              " 'In fact the marks at issue are dissimilar because each is used with the two entities team colors which are dissimilar ',\n",
              " 'As claimed in the Subject Application Applicant is the owner of S Registration No for the mark and Design Applicant Existing Registration depicted below for use with services in International Class ',\n",
              " 'Applicant Existing Registration was obtained in and has become incontestible ',\n",
              " 'The first use of the mark in Applicant Existing Registration was and the registered mark depicts Applicant Mark football helmet featuring an oval shaped which was lined to indicate that the helmet is colored red in manner typical of football helmets in the ',\n",
              " ' As is common with trademarks and service marks in general and particularly with sports tea marks as evidenced by the Green Bay marks as noted below Applicant began using modernized version of Applicant Mark in that depicted the same mark red football helmet featuring an oval shaped updated to reflect the look of modem football helmet ',\n",
              " 'Applicant Mark in its original and modernized versions are set forth below Applicant Mark ca S Registration No July Applicant Mark ca S Application No File Serial No Law Office Examining Attorney Won Oh',\n",
              " 'In an almost identical sequence of events in Green Bay obtained S Registration No for the mark and Design for use with services in International Class the Green Bay mark as depicted below ',\n",
              " 'The claimed first use of the Green Bay mark was and that mark also depicts football helmet in manner typical of football helmets in the ',\n",
              " 'Following the common practice Green Bay also began using modernized version of its mark and in obtained S Registration No for use on goods in International Classes and the Green Bay Ir mark as depicted below which depicted its mark updated to reflect the look of modem football helmet ',\n",
              " 'The Green Bay II mark is lined for the colors green and yellow ',\n",
              " 'The Green Bay marks are set forth below Green Bay ca S Registration No Green Bay II ca S Registration No ',\n",
              " 'In the course of obtaining Applicant Existing Registration Applicant and Green Bay entered into an Agreement whereby Green Bay consented to the registration of the original version of Applicant Mark ',\n",
              " 'The consent to registration agreement applies with equal force to the applied for mark in the Subject Application which is merely modernization of the mark in Applicant Existing Registration ',\n",
              " 'See M P Mere changes in background or styling or modernization are not ordinarily considered to be material changes in the mark ',\n",
              " 'The Trademark Office has confirmed this fact in renewing Applicant Existing Registration Applicant submitted specimens of use depicting the modernized version of Applicant Mark File Serial No Law Office Examining Attorney Woo Oh where were accepted as specimens of use in commerce of the registered mark ',\n",
              " 'See Combined Declaration Of Use In Commerce And Application For Renewal Of Registration Of Mark Under And attached hereto as Exhibit Notice Of Acceptance and Notice Of Renewal attached hereto as Exhibit Accordingly Applicant has submitted Request To Amend Applicant Existing Registration under Section to amend the mark in the registration to agree with the modernized mark currently used and accepted by the Trademark Office ',\n",
              " 'A true and correct copy of said Request To Amend is attached hereto as Exhibit ',\n",
              " 'Of course as is often the case Applicant has long used Applicant Mark not only in connection with the services recited in Applicant Existing Registration but also on or in connection with various goods including but not limited to those identified in the Subject Application ',\n",
              " 'In response to the Subject Application to register Applicant Mark for use on or in connection with the identified goods the Examining Attorney has suggested that Applicant Mark may be confused with the Green Bay and Green Bay II marks ',\n",
              " 'However the consent to registration and coexistence Agreement between the parties long standing coexistence of Applicant Mark and the Cited Marks on the Principal Register and in the marketplace confirms that confusion is not likely ',\n",
              " 'Because of the common use of football helmet marks the nature of the goods and services involved including particularly the key relationship of those goods and services with specific sports team and other relevant factors confusion is not likely ',\n",
              " 'B No Likelihood Of Confusion ',\n",
              " 'A showing of mere possibility of confusion is not enough substantial likelihood that the public will be confused must be shown ',\n",
              " 'Omaha Nat Bank Citibank D A File Serial No Law Office Examining Attorney Won Ob Supp at USPQ at emphasis added ',\n",
              " 'The Court of Customs and Patent Appeals listed factors to be considered in determining if likelihood of confusion exists under Section ',\n",
              " 'See In re I Du Pont de Nemours Co d S Q C A ',\n",
              " 'According to the Court the following when of record must be considered in evaluating likelihood of confusion ',\n",
              " ' The conditions under which and buyers to whom sales are made e impulse vs careful sophisticated purchasing ',\n",
              " ' The number and nature of similar marks in use on similar goods ',\n",
              " ' The nature and extent of any actual confusion ',\n",
              " ' The length of time during and conditions under which there has been concurrent use without evidence of actual confusion ',\n",
              " ' The market interface between applicant and the owner of prior mark a mere consent to register or use ',\n",
              " ' agreement provisions designed to preclude confusion e limitations on continued use of the marks by each party ',\n",
              " ' The extent of potential confusion e whether de minimis or substantial ',\n",
              " ' Any other established fact probative of the effect of use ',\n",
              " 'Id d at S Q at emphasis added RALLY for polishing and cleaning agent not likely to be confused with RALLY for all purpose detergent ',\n",
              " 'The relevant circumstances surrounding Applicant Mark in the marketplace include long history of contemporaneous use of Applicant Mark and the Cited Marks more than twenty five years with the Green Bay mark and more than ten years with the Green Bay II mark without any known incidents of confusion ',\n",
              " ' the existence of the consent to registraton and coexistence agreement between the parties ',\n",
              " ' the relative sophistication of purchasers and File Serial No Law Office Examining Attorney Won Oh prospective purchasers including particularly the identification of specific symbols with specific schools ',\n",
              " ' the existence of multiple similar marks including not only design marks but also word marks ',\n",
              " 'and the absence of any intent on the part of Applicant to trade off of another good will ',\n",
              " 'With twenty years of empirical evidence as substantiation fully evaluating all relevant factors confirms that no likelihood of confusion exists between Applicant Mark and the Cited Marks ',\n",
              " 'In this instance even mere possibility can be eliminated and substantial likelihood is unequivocally rebutted the long standing coexistence of the marks and the agreement of the parties confirm that confusion will not occur ',\n",
              " ' Existence Of Consent To Registration And Coexistence Agreement ',\n",
              " 'Applicant respectfully directs the Examining Attorney attention to Applicant claim recited in the Subject Application of ownership of S Registration No for Applicant Mark used in connection with services in International Class which issued July and has now become incontestible ',\n",
              " 'The official file history maintained by the Trademark Office for Applicant Existing Registration includes copy of the Agreement entered into by and between Applicant and Green Bay on July ',\n",
              " 'A true and correct copy of the Agreement as contained in the official files of the Trademark Office is attached hereto as Exhibit ',\n",
              " 'The Agreement provides inter alia in pertinent part ',\n",
              " 'The examiner has requested that the parties submit an agreement describing the means by which the University and Green Bay have in the past and will continue in the future to avoid confusion between the uses of their respective marks ',\n",
              " ' The parties agree that neither party has ever used its mark in connection with the colors of the other party ',\n",
              " ' File Serial No Law Office Examining Attorney Won Oh ',\n",
              " 'Neither party is aware of any instances of actual confusion among football fans which has been caused by the use of the Green Bay Mark or the University Mark during the approximately twenty year period during which the two marks have been used by the parties ',\n",
              " 'Exhibit ff Further each party agreed to use its respective mark in such manner as to avoid confusion with the use by the other party of its mark ',\n",
              " 'Id The parties also agreed to cooperate in program designed to avoid confusion between the Green Bay Mark and the University Mark ',\n",
              " 'Id ',\n",
              " 'The detailed consent to registration and coexistence Agreement between Applicant and Green Bay should be given substantial weight ',\n",
              " 'Du Pont de Nemours d at In the du Pont case the Court of Customs and Patent Appeals stated The weight to be given more detailed agreements should be substantial ',\n",
              " 'It can be safely taken as fundamental that reputable businessmen users of valuable trademarks have no interest in causing public confusion ',\n",
              " ' Thus when those most familiar with use in the marketplace and most interested in precluding confusion enter agreements designed to avoid it the scales of evidence are clearly tilted ',\n",
              " 'It is at least difficult to maintain subjective view that confusion will occur when those directly concerned say it won ',\n",
              " 'A mere assumption that confusion is likely will rarely prevail against uncontroverted evidence from those on the firing line that it is not ',\n",
              " 'Id at ',\n",
              " 'Thus because both Applicant and Green Bay have agreed and promised to use their best efforts to avoid any confusion no likelihood of confusion exists between Applicant Mark and the Cited Marks ',\n",
              " 'See id see also In re Palm Beach Incorporated S Q T B An agreement or letter or consent need not necessarily have provisions similar to those in the agreement in the DuPont case in order to be persuasive citing In re American Management Associations USPQ T B Villanova University Villanova Alumni Educ Found Inc S Q E Pa marks must be examined in the context in which they are found considering the totality of factors that File Serial No Law Office Examining Attorney Won Oh could cause confusion among prospective purchasers use of WILDCAT CLUB mark together with Villanova and other words and images suggested an affiliation with Villanova University ',\n",
              " ' The Complete Absence of Any Evidence of Actual Confusion Despite Twenty Years of Concurrent Use Confirms That Confusion Between the Mar ks is Unlikely ',\n",
              " 'Applicant believes that evidence of the above consent to registration and coexistence Agreement eliminates the grounds for the Examining Attorney preliminary Section refusal ',\n",
              " 'However in further response to the Examining Attorney comments there is no likelihood of confusion between Applicant Mark and the Cited Marks because the concurrent use of marks without actual consumer confusion is evidence that future confusion is unlikely See Du Pont de Nemours d at S Q at see also generally ',\n",
              " 'Restatement Third of Unfair Competition comment at the absence of evidence of actual confusion may indicate that significant confusion is unlikely ',\n",
              " 'Applicant has been using Applicant Mark on or in connection with goods and services since at least while the Green Bay mark has been registered since claiming date of first use in and the Green Bay II mark has been registered since claiming date of first use in ',\n",
              " 'Despite this long period of coexistence in national marketplace Applicant is not aware of single incident of actual or possible confusion during this entire period of concurrent use ',\n",
              " 'This substantial period of concurrent use of Applicant Mark and the Cited Marks without any evidence of actual confusion confirms that confusion is unlikley ',\n",
              " 'See Oreck Corp U Floor Sys Inc d S Q th Cir cert denied S holding that concurrent use for months with no evidence of actual confusion is highly significant evidence that confusion is unlikely Plus Prods Plus File Serial No Law Office Examining Attorney Won Oh Discount Foods Inc d S Q Cir PLUS and Design not confusingly similar to PLUS and Design three years concurrent use is strong indicator that the likelihood of confusion is minimal Lever Bros Co Am Bakeries Co d S Q Cir AUTUMN GRAIN for bread not confusingly similar to AUTUMN for margerine substantial sales of both products over several years without single example of actual confusion becomes significant Affiliated Hosp Prods Inc Merdel Game Mfg Co d S Q Cir KICK ER and KIK IT both for tabletop game not confusingly similar buttressing our conclusion is the finding of the trial judge that there was substantial proof that there was no actual confusion between the products it certainly is proper for the trial judge to infer from the absence of actual confusion that there was no likelihood of confusion Northern Trust Coro Northern Bank Trust Co S Q D Mass after three years of concurrent use plaintiff must show actual confusion in order to overcome the strong presumption that there is little likelihood of confusion Societe Anonyme de La Grande Distillerie Cusenier Fils Aine Cie Julius Wile Sons Co Supp S Q D Y FRAPPEMINT and FREEZOMINT both for creme de menthe cordials not confusingly similar the fact that during the period of over six years of concurrent use no one appears to have been actually deceived is strongly probative that there is no likelihood of deception or confusion In re Palm Beach Inc S Q T B ADLER for pants not confusingly similar to ADLER for knitted socks The fact that the parties have used their marks contemporaneously for more than forty five years without any known instances of confusion is strong evidence that confusion is not likely to occur In re Am Mgmt Assoc S Q T B PERSONNEL for File Serial No Law Office Examining Attorney Won Oh publication not confusingly similar to PERSONNEL JOURNAL for magazine absence of any known instance of actual confusion in more than fifty years of contemporaneous use of marks is strong evidence that confusion is not likely to occur in the future ',\n",
              " ' Applicant Incontestable Registration Supports Publication of the Pending Application ',\n",
              " 'The fact of Applicant existing incontestable registration S Registration No bears directly on the registrability of Applicant Mark for use or or with the goods in the Subject Application ',\n",
              " 'In the analogous context of opposition and cancellation proceedings the Board has acknowledged explicitly that as matter of law the opposer cannot be damaged by the issuance to the applicant of second registration where applicant already has an existing registration of the same mark for the same goods ',\n",
              " 'Morehouse Mfg Co J Strickland Co d S Q C A applying doctrine to marks with trifling difference Joseph Feiss Co Sportempos Inc d S Q C A ',\n",
              " 'Applicant Mark is mere modernization of the mark that is subject of Applicant Existing Registration ',\n",
              " 'This fact has been confirmed by the Trademark Office ',\n",
              " 'MR Empty See Exs C ',\n",
              " 'Although Applicant existing registration is for use with Applicant services and the Subject Application is for use with Applicant goods Applicant has been using Applicant Mark since on goods in connection with the promotion of Applicant services ',\n",
              " 'In fact the specimens of record for use in International Class in the public file maintained by the Patent and Trademark Office associated with the prosecution of Applicant existing registration comprise inter alia catalogs depicting products identified in the Subject Application such as apparel and games on which Applicant Mark is used ',\n",
              " 'Thus if purchasers saw goods on which Applicant Mark was used they would perceive the same long standing identification that has existed with Applicant for more than twenty years if not longer ',\n",
              " ' The Existence of Multiple Similar Marks Explains The Absence of Confusion ',\n",
              " 'A threshold question in every case is the degree of protection afforded registered mark ',\n",
              " 'See King Candy Co Eunice King Kitchen Inc S Q T B affd d S Q C A MISS KING for cake not confusingly similar to KING for candy ',\n",
              " ' he strength and distinctiveness of mark is vital consideration in determining the scope of protection it should be accorded ',\n",
              " 'Amstar Com Domino Piz rn Inc d S Q th Cir cert denied S DOMINO PIZZA not confusingly similar to DOMINO sugar ',\n",
              " 'Well established precedent of both federal courts and the Board consistently has recognized that third parties use of similar marks is evidence of the relative strength of mark ',\n",
              " 'See Shoe Com of Am Juvenile Shoe Corp d S Q C A LAZY PALS and LAZY BONES both for shoes not confusingly similar Nat Motor Bearing Co James Pond Clark d S Q C A CIRCLE SEAL and Sea Lion Design for valves not confusingly similar to Sea Lion Design for rings Wooster Brush Co Prager Brush Co S Q T B POLY FLO for paint brushes POLY PRO and EASY FLO for paint brushes and POLY GLO for paint applicators S Plywood Champion Papers Inc Novagard Com S Q T B NOVACALK for caulk not confusingly similar to NOVI and NOVO family of marks for wall panels and lumber ',\n",
              " ' File Serial No Law Office Examining Attorney Won Oh ',\n",
              " 'Based on the numerous third party uses of football helmet designs Applicant Mark and the Cited Marks are not likely to be confused ',\n",
              " 'A search of the Trademark Office website using the design search code for Football Helmets as set forth in the Office Design Search Code Manual combined with either university or football in the owner name and address field reveals more than registered or applied for marks ',\n",
              " 'See Exhibit ',\n",
              " 'As these numerous and varied registrations demonstrate football helmet design is not unique indicator of origin for goods and services ',\n",
              " 'It is well established that the scope of protection extended to these weak marks has been so limited as to permit the subsequent use and or registration of substantially identical notation ',\n",
              " 'Land Nod Co Paulison S Q T B CHIRO MATIC for mattresses and box springs not likely to be confused with CHIROPRACTIC or CHIRO for the same products Knudsen Sons Inc Vita Pakt Citrus Prods Co d USPQ Fed Cir unpublished VITA JUICE not confusingly similar to VITA PAKT both for fruit juice When the field is crowded with similar marks the scope of protection is correspondingly narrow C Johnson Son Inc Johnson d USPQ Cir cert denied S JOHNSON CLEANER for cleaning fluids not confusingly similar to JOHNSON for waxes and other products ',\n",
              " 'Thus ven close similarity between two marks is not dispositive of the issue of likelihood of confusion ',\n",
              " 'Lever Bros Co Am Bakeries Co d at USPQ at McGregor Doniger Inc Drizzle Inc d at USPQ at Similarity in and of itself is not the acid test ',\n",
              " 'In this instance the marks are dissimilar because the colors of Applicant Mark and the Cited Marks are material features of the marks ',\n",
              " 'The mark that is the subject of Applicant Existing Registration is lined to show that the football helmet is the color red ',\n",
              " 'The Subject Applicantion as amended herein includes statement that the color red on the football helmet is claimed as feature of the mark ',\n",
              " 'In contrast the Green Bay II mark is lined to show that the football helmet is the colors yellow and green ',\n",
              " 'Because each party only uses its respective mark in the colors of its team the marks are dissimilar ',\n",
              " 'Beech Nut Inc Warner Lambert Co Supp D Y In well trodden field small variations are likely to make enough of difference to ward off charges of infringement see also Plus Products Natural Organics Inc S Q T B finding that PLUS marks for vitamins can be used and registered side by side without causing confusion or mistake provided there are minimal differences between the marks ',\n",
              " ' The Careful Conditions Under Which Sales Are Made by Applicant And The Concern And Sophistication of Buyers to Whom Sales Are Made Make Confusion Unlikely ',\n",
              " 'It is well established that likelihood of confusion is diminished where the relevant group of purchasers is sophisticated ',\n",
              " 'See g Champions Golf Club Inc The Champions Golf Club Inc d S Q th Cir ',\n",
              " 'Here confusion between Applicant Mark and the Cited Marks is unlikely because consumers for the relevant goods and services licensed merchandise of specific sports team purchase with significant care ',\n",
              " 'See Universal Money Ctrs Inc AT Co Supp USPQ D Kan average consumer will be aware of the services offered by credit card and will be aware of the source preventing confusion UNNERSAL for combination telephone and retail card not confusingly similar to UNIVERSAL MONEY CARD for ATM card Magniflux Corp Sonoflux Corp d USPQ CCPA confusion is less likely where goods are expensive and purchased after careful consideration SONIZON not likely toe confused with SONOFLUX both for testing apparatus ',\n",
              " ' File Serial No Law Office Examining Attorney Won Oh ',\n",
              " 'The typical consumer for sports teams licensed goods and services carefully seeks goods and services from that particular team as opposed to other teams ',\n",
              " 'In other words the loyalty of purchasers helps assure that the marks will be distinguished and make confusion unlikely ',\n",
              " 'Moreover the primary purchasers of Applicant Goods are students and alumni of the University of Georgia or fans of its collegiate football team whereas the primary purchasers of the Cited Goods are fans of the Green Bay Packers professional football team ',\n",
              " 'Likely consumers of Applicant Goods and the Cited Goods typically will have become cogniz ant of the distinctions between Applicant Goods and the Cited Goods as result of their enthusiasm for these two disparate teams ',\n",
              " 'Therefore any likelihood of confusion between Applicant Mark and the Cited Marks is diminished ',\n",
              " ' Other Evidence Probative on The Issue of Confusion Supports The Conclusion That Confusion Between Applicant Mark And The Cited Marks is Unlikely ',\n",
              " ' ourts regularly include intent as one of the factors to be assessed in evaluating likelihood of confusion ',\n",
              " 'Restatement Third of Unfair Competition reporter note to comment at see also McCarthy Trademarks Unfair Competition at th ed intent is relevant to the issue of likelihood of confusion ',\n",
              " 'In this instance Applicant had no intent to trade upon anyone reputation by adopting and using Applicant Mark including the Cited Marks ',\n",
              " 'In fact as discussed above Applicant Mark has been used for over twenty years concurrently with the Cited Marks ',\n",
              " 'Thus this factor also supports registration of Applicant Mark ',\n",
              " ' File Serial No Law Office Examining Attorney Won Oh II ',\n",
              " 'INFORMALITIES IDENTIFICATION OF GOODS ',\n",
              " 'The Examining Attorney has preliminarily refused registration of Applicant Mark on the basis that the identifications of goods in International Classes and requires clarification ',\n",
              " 'In view thereof Applicant requests that the Examining Attorney delete the present identification of goods in International Class and substitute therefor PRINTED BOOKLETS NEWSLETTERS CATALOGS AND BROCHURES FEATURING INFORMATION OF INTEREST TO STUDENTS FACULTY AND ALUMNI OF THE UNIVERSITY OF GEORGIA DECALS TEMPORARY TATTOOS NOTE PAPER NOTEBOOKS DECORATIVE PAPER FLAGS PAPER BANNERS AND PAPER FOLDERS ',\n",
              " 'Applicant further requests that the Examining Attorney delete the present identification of goods in International Class and substitute therefor CLOTHING NAMELY BOXER SHORTS CAPS COATS FOOTWEAR HATS JACKETS JERSEYS PANTS RAINWEAR SHIRTS SHOES SOCKS SHORTS SWEATPANTS SWEATSHIRTS SWEAT SUITS SWEATERS SHIRTS TIES VISORS AND INFANT WEAR IN THE NATURE OF SHIRTS PANTS SHORTS BIBS SOCKS AND PAJAMAS ',\n",
              " 'Applicant further requests that the Examining Attorney delete the present identification of goods in International Class and substitute therefor ',\n",
              " 'TOYS GAMES AND SPORTING GOODS NAMELY BOARD GAMES STUFFED TOY ANIMALS FOOTBALLS BASKETBALLS SOCCER BALLS BASEBALLS GOLF BALLS GOLF BAGS AND GOLF ACCESSORIES NAMELY GOLF CLUB COVERS GOLF CLUB HEAD COVERS DIVOT REPAIR TOOLS GOLF ACCESSORY POUCHES GOLF BAG COVERS GOLF BAG TAGS GOLF BALL MARKERS GOLF BALL RETRIEVERS GOLF BALL SLEEVES GOLF CLUB GRIPS GOLF CLUB HEADS GOLF CLUB INSERTS GOLF CLUB SHAFTS GOLF GLOVES GOLF PUTTER COVERS File Serial No Law Office Examining Attorney Won Oh GOLF PUTTERS GOLF TEE MARKERS GOLF TEES AND GOLF TOWEL CLIPS FOR ATTACHMENT TO GOLF BAGS AND CHRISTMAS TREE ORNAMENTS ',\n",
              " 'AMENDED DRAWING PAGE Applicant has attached hereto drawing page that has been amended to claim the color red as feature of the mark ',\n",
              " 'On the amended drawing the color red appears on the football helmet ',\n",
              " 'Applicant has submitted amended identifications of goods in International Classes and and an amended drawing page ',\n",
              " 'Applicant believes that the application is now in order and in condition to be published ',\n",
              " 'Therefore Applicant respectfully requests that the Examining Attorney withdraw his preliminary refusal to register Applicant Mark and that he pass the mark to publication at the earliest possible date ',\n",
              " 'Date co Respectfully submitted Thomas Lundin Jr KING SPALDING LLP Peachtree Street Atlanta Georgia Tel Fax Attorneys For Applicant UNIVERSITY OF GEORGIA ATHLETIC ASSOCIATION INC File ']"
            ]
          },
          "metadata": {
            "tags": []
          },
          "execution_count": 30
        }
      ]
    },
    {
      "cell_type": "code",
      "metadata": {
        "id": "HbSOwWzlD6US",
        "colab_type": "code",
        "colab": {}
      },
      "source": [
        "z=caselaw['ArgNonArg']"
      ],
      "execution_count": 0,
      "outputs": []
    },
    {
      "cell_type": "code",
      "metadata": {
        "id": "2PjwgfReEMUT",
        "colab_type": "code",
        "colab": {}
      },
      "source": [
        "a=caselaw['ArgNonArg']\n",
        "a=np.array(list(map(lambda x: 1 if x==1 else 0, a)))"
      ],
      "execution_count": 0,
      "outputs": []
    },
    {
      "cell_type": "code",
      "metadata": {
        "id": "biyR59CnENmp",
        "colab_type": "code",
        "colab": {
          "base_uri": "https://localhost:8080/",
          "height": 136
        },
        "outputId": "d7c4f746-1989-43a3-f4df-abd3ddde5f51"
      },
      "source": [
        "a"
      ],
      "execution_count": 33,
      "outputs": [
        {
          "output_type": "execute_result",
          "data": {
            "text/plain": [
              "array([0, 0, 0, 1, 1, 1, 1, 1, 1, 0, 0, 0, 1, 1, 1, 1, 1, 1, 1, 1, 1, 1,\n",
              "       1, 1, 1, 1, 1, 0, 0, 0, 0, 0, 0, 0, 0, 0, 0, 0, 0, 0, 0, 0, 0, 0,\n",
              "       1, 1, 1, 1, 1, 1, 1, 1, 1, 1, 1, 1, 1, 1, 1, 1, 1, 1, 1, 1, 1, 1,\n",
              "       1, 1, 1, 1, 1, 1, 0, 1, 1, 1, 1, 1, 1, 1, 1, 1, 1, 1, 1, 1, 0, 1,\n",
              "       1, 1, 1, 1, 1, 1, 1, 1, 1, 1, 1, 1, 1, 1, 1, 1, 1, 1, 1, 1, 1, 1,\n",
              "       1, 1, 1, 1, 1, 1, 1, 1, 1, 1, 1, 1, 1, 0, 0, 1, 0, 0, 0, 0, 1, 1,\n",
              "       1, 1, 1, 1, 1, 1, 0, 0, 0, 0])"
            ]
          },
          "metadata": {
            "tags": []
          },
          "execution_count": 33
        }
      ]
    },
    {
      "cell_type": "code",
      "metadata": {
        "id": "5XKPJKd9EtBQ",
        "colab_type": "code",
        "colab": {}
      },
      "source": [
        "X_train,X_test, y_train,y_test=train_test_split(X,a,test_size=0.20, random_state=42)"
      ],
      "execution_count": 0,
      "outputs": []
    },
    {
      "cell_type": "code",
      "metadata": {
        "id": "5opxVjKqFXM_",
        "colab_type": "code",
        "colab": {}
      },
      "source": [
        "tokenizer=Tokenizer(num_words=5000)\n",
        "tokenizer.fit_on_texts(X_train)\n",
        "\n",
        "X_train=tokenizer.texts_to_sequences(X_train)\n",
        "X_test=tokenizer.texts_to_sequences(X_test)"
      ],
      "execution_count": 0,
      "outputs": []
    },
    {
      "cell_type": "code",
      "metadata": {
        "id": "-J3cAga-Fd7E",
        "colab_type": "code",
        "colab": {}
      },
      "source": [
        "vocab_size=len(tokenizer.word_index) + 1\n",
        "maxlen=100\n",
        "X_train=pad_sequences(X_train,padding='post',maxlen=maxlen)\n",
        "X_test=pad_sequences(X_test, padding='post', maxlen=maxlen)"
      ],
      "execution_count": 0,
      "outputs": []
    },
    {
      "cell_type": "code",
      "metadata": {
        "id": "LCckBYDGFydS",
        "colab_type": "code",
        "colab": {}
      },
      "source": [
        "from numpy import array\n",
        "from numpy import asarray\n",
        "from numpy import zeros\n",
        "\n",
        "embeddings_dictionary = dict()\n",
        "glove_file = open('/content/glove_folder/glove.6B.100d.txt', encoding=\"utf8\")\n",
        "\n",
        "for line in glove_file:\n",
        "    records = line.split()\n",
        "    word = records[0]\n",
        "    vector_dimensions = asarray(records[1:], dtype='float32')\n",
        "    embeddings_dictionary [word] = vector_dimensions\n",
        "glove_file.close()"
      ],
      "execution_count": 0,
      "outputs": []
    },
    {
      "cell_type": "code",
      "metadata": {
        "id": "c7W0omGlGMnw",
        "colab_type": "code",
        "colab": {}
      },
      "source": [
        "embedding_matrix=zeros((vocab_size,100))\n",
        "for word,index in tokenizer.word_index.items():\n",
        "  embedding_vector=embeddings_dictionary.get(word)\n",
        "  if embedding_vector is not None:\n",
        "    embedding_matrix[index]=embedding_vector"
      ],
      "execution_count": 0,
      "outputs": []
    },
    {
      "cell_type": "code",
      "metadata": {
        "id": "_NKITApTGhw1",
        "colab_type": "code",
        "colab": {}
      },
      "source": [
        "import pandas as pd\n",
        "import numpy as np\n",
        "import re\n",
        "import nltk\n",
        "from nltk.corpus import stopwords\n",
        "\n",
        "from numpy import array\n",
        "from keras.preprocessing.text import one_hot\n",
        "from keras.preprocessing.sequence import pad_sequences\n",
        "from keras.models import Sequential\n",
        "from keras.layers.core import Activation, Dropout, Dense\n",
        "from keras.layers import Flatten\n",
        "from keras.layers import GlobalMaxPooling1D\n",
        "from keras.layers.embeddings import Embedding\n",
        "from sklearn.model_selection import train_test_split\n",
        "from keras.preprocessing.text import Tokenizer"
      ],
      "execution_count": 0,
      "outputs": []
    },
    {
      "cell_type": "code",
      "metadata": {
        "id": "6ImRiHZoGqFm",
        "colab_type": "code",
        "colab": {}
      },
      "source": [
        "model=Sequential()\n",
        "embedding_layer=Embedding(vocab_size,100, weights=[embedding_matrix], input_length=maxlen,trainable=False)\n",
        "model.add(embedding_layer)\n",
        "model.add(Flatten())\n",
        "model.add(Dense(1,activation='sigmoid'))"
      ],
      "execution_count": 0,
      "outputs": []
    },
    {
      "cell_type": "code",
      "metadata": {
        "id": "FlReLMbMGsqh",
        "colab_type": "code",
        "colab": {
          "base_uri": "https://localhost:8080/",
          "height": 272
        },
        "outputId": "9fcd6c4d-9c60-4b46-cbc2-5a2e4b5319ca"
      },
      "source": [
        "model.compile(optimizer='adam',loss='binary_crossentropy', metrics=['acc'])\n",
        "print(model.summary())"
      ],
      "execution_count": 48,
      "outputs": [
        {
          "output_type": "stream",
          "text": [
            "Model: \"sequential_5\"\n",
            "_________________________________________________________________\n",
            "Layer (type)                 Output Shape              Param #   \n",
            "=================================================================\n",
            "embedding_5 (Embedding)      (None, 100, 100)          90200     \n",
            "_________________________________________________________________\n",
            "flatten_1 (Flatten)          (None, 10000)             0         \n",
            "_________________________________________________________________\n",
            "dense_1 (Dense)              (None, 1)                 10001     \n",
            "=================================================================\n",
            "Total params: 100,201\n",
            "Trainable params: 10,001\n",
            "Non-trainable params: 90,200\n",
            "_________________________________________________________________\n",
            "None\n"
          ],
          "name": "stdout"
        }
      ]
    },
    {
      "cell_type": "code",
      "metadata": {
        "id": "8k4gK-U4GwxC",
        "colab_type": "code",
        "colab": {
          "base_uri": "https://localhost:8080/",
          "height": 258
        },
        "outputId": "154af5f3-1065-4b39-b723-1372befeda1a"
      },
      "source": [
        "history = model.fit(X_train, y_train, batch_size=1, epochs=6, verbose=1, validation_split=0.2)"
      ],
      "execution_count": 49,
      "outputs": [
        {
          "output_type": "stream",
          "text": [
            "Train on 90 samples, validate on 23 samples\n",
            "Epoch 1/6\n",
            "90/90 [==============================] - 0s 2ms/step - loss: 0.7117 - acc: 0.6222 - val_loss: 0.4144 - val_acc: 0.8261\n",
            "Epoch 2/6\n",
            "90/90 [==============================] - 0s 1ms/step - loss: 0.3177 - acc: 0.9000 - val_loss: 0.3589 - val_acc: 0.8261\n",
            "Epoch 3/6\n",
            "90/90 [==============================] - 0s 1ms/step - loss: 0.2200 - acc: 0.9889 - val_loss: 0.3707 - val_acc: 0.8261\n",
            "Epoch 4/6\n",
            "90/90 [==============================] - 0s 1ms/step - loss: 0.1705 - acc: 0.9778 - val_loss: 0.3786 - val_acc: 0.8261\n",
            "Epoch 5/6\n",
            "90/90 [==============================] - 0s 1ms/step - loss: 0.1319 - acc: 0.9889 - val_loss: 0.4073 - val_acc: 0.8261\n",
            "Epoch 6/6\n",
            "90/90 [==============================] - 0s 1ms/step - loss: 0.1055 - acc: 0.9889 - val_loss: 0.4149 - val_acc: 0.8261\n"
          ],
          "name": "stdout"
        }
      ]
    },
    {
      "cell_type": "code",
      "metadata": {
        "id": "Qqn_y96TGz-z",
        "colab_type": "code",
        "colab": {
          "base_uri": "https://localhost:8080/",
          "height": 34
        },
        "outputId": "79892f18-a989-410c-853f-342a1fdb9c36"
      },
      "source": [
        "score = model.evaluate(X_test, y_test, verbose=1)"
      ],
      "execution_count": 50,
      "outputs": [
        {
          "output_type": "stream",
          "text": [
            "\r29/29 [==============================] - 0s 1ms/step\n"
          ],
          "name": "stdout"
        }
      ]
    },
    {
      "cell_type": "code",
      "metadata": {
        "id": "oS62ECUmHBPM",
        "colab_type": "code",
        "colab": {
          "base_uri": "https://localhost:8080/",
          "height": 51
        },
        "outputId": "3689be71-c5b2-4c55-c746-543d370f401b"
      },
      "source": [
        "print(\"Test Score:\", score[0])\n",
        "print(\"Test Accuracy:\", score[1])"
      ],
      "execution_count": 51,
      "outputs": [
        {
          "output_type": "stream",
          "text": [
            "Test Score: 0.711549699306488\n",
            "Test Accuracy: 0.7931034564971924\n"
          ],
          "name": "stdout"
        }
      ]
    },
    {
      "cell_type": "code",
      "metadata": {
        "id": "4RHrLWn-HDsh",
        "colab_type": "code",
        "colab": {}
      },
      "source": [
        "y_pred=model.predict_classes(X_test)"
      ],
      "execution_count": 0,
      "outputs": []
    },
    {
      "cell_type": "code",
      "metadata": {
        "id": "2BMwM5qqHJiI",
        "colab_type": "code",
        "colab": {
          "base_uri": "https://localhost:8080/",
          "height": 510
        },
        "outputId": "ad8f2942-e59d-484d-c10e-188ca00d894b"
      },
      "source": [
        "y_pred"
      ],
      "execution_count": 53,
      "outputs": [
        {
          "output_type": "execute_result",
          "data": {
            "text/plain": [
              "array([[1],\n",
              "       [1],\n",
              "       [1],\n",
              "       [1],\n",
              "       [1],\n",
              "       [1],\n",
              "       [1],\n",
              "       [1],\n",
              "       [1],\n",
              "       [1],\n",
              "       [0],\n",
              "       [1],\n",
              "       [1],\n",
              "       [1],\n",
              "       [0],\n",
              "       [1],\n",
              "       [1],\n",
              "       [1],\n",
              "       [0],\n",
              "       [1],\n",
              "       [1],\n",
              "       [1],\n",
              "       [1],\n",
              "       [1],\n",
              "       [0],\n",
              "       [1],\n",
              "       [1],\n",
              "       [1],\n",
              "       [1]], dtype=int32)"
            ]
          },
          "metadata": {
            "tags": []
          },
          "execution_count": 53
        }
      ]
    },
    {
      "cell_type": "code",
      "metadata": {
        "id": "fw1BEcVEHLZA",
        "colab_type": "code",
        "colab": {
          "base_uri": "https://localhost:8080/",
          "height": 51
        },
        "outputId": "79ff1868-6f1b-465f-9594-6d65ebea572e"
      },
      "source": [
        "y_test"
      ],
      "execution_count": 54,
      "outputs": [
        {
          "output_type": "execute_result",
          "data": {
            "text/plain": [
              "array([1, 1, 1, 1, 1, 1, 1, 1, 1, 1, 1, 1, 1, 1, 1, 1, 0, 1, 0, 1, 0, 1,\n",
              "       1, 1, 1, 1, 0, 1, 1])"
            ]
          },
          "metadata": {
            "tags": []
          },
          "execution_count": 54
        }
      ]
    },
    {
      "cell_type": "code",
      "metadata": {
        "id": "nNZt6fArHOED",
        "colab_type": "code",
        "colab": {
          "base_uri": "https://localhost:8080/",
          "height": 51
        },
        "outputId": "ef6aeefd-81ad-4a36-e389-326512238719"
      },
      "source": [
        "model.evaluate(X_test, y_test)"
      ],
      "execution_count": 55,
      "outputs": [
        {
          "output_type": "stream",
          "text": [
            "\r29/29 [==============================] - 0s 107us/step\n"
          ],
          "name": "stdout"
        },
        {
          "output_type": "execute_result",
          "data": {
            "text/plain": [
              "[0.711549699306488, 0.7931034564971924]"
            ]
          },
          "metadata": {
            "tags": []
          },
          "execution_count": 55
        }
      ]
    },
    {
      "cell_type": "code",
      "metadata": {
        "id": "q0V4CfQVHRHJ",
        "colab_type": "code",
        "colab": {}
      },
      "source": [
        "from sklearn.metrics import confusion_matrix, accuracy_score"
      ],
      "execution_count": 0,
      "outputs": []
    },
    {
      "cell_type": "code",
      "metadata": {
        "id": "Av_RxUteHUL9",
        "colab_type": "code",
        "colab": {
          "base_uri": "https://localhost:8080/",
          "height": 51
        },
        "outputId": "2a0c3e5a-1dfc-47ba-fe4e-9ea1952787b4"
      },
      "source": [
        "confusion_matrix(y_test,y_pred)"
      ],
      "execution_count": 58,
      "outputs": [
        {
          "output_type": "execute_result",
          "data": {
            "text/plain": [
              "array([[ 1,  3],\n",
              "       [ 3, 22]])"
            ]
          },
          "metadata": {
            "tags": []
          },
          "execution_count": 58
        }
      ]
    },
    {
      "cell_type": "code",
      "metadata": {
        "id": "Dr_icvqmHWHi",
        "colab_type": "code",
        "colab": {}
      },
      "source": [
        "from sklearn.metrics import classification_report"
      ],
      "execution_count": 0,
      "outputs": []
    },
    {
      "cell_type": "code",
      "metadata": {
        "id": "Uib8L6CEHZJ-",
        "colab_type": "code",
        "colab": {
          "base_uri": "https://localhost:8080/",
          "height": 170
        },
        "outputId": "078a2f88-f066-41c9-de87-ce0cec141105"
      },
      "source": [
        "print(classification_report(y_test,y_pred))"
      ],
      "execution_count": 60,
      "outputs": [
        {
          "output_type": "stream",
          "text": [
            "              precision    recall  f1-score   support\n",
            "\n",
            "           0       0.25      0.25      0.25         4\n",
            "           1       0.88      0.88      0.88        25\n",
            "\n",
            "    accuracy                           0.79        29\n",
            "   macro avg       0.56      0.56      0.56        29\n",
            "weighted avg       0.79      0.79      0.79        29\n",
            "\n"
          ],
          "name": "stdout"
        }
      ]
    },
    {
      "cell_type": "code",
      "metadata": {
        "id": "NmCERpEyHa76",
        "colab_type": "code",
        "colab": {
          "base_uri": "https://localhost:8080/",
          "height": 573
        },
        "outputId": "5043a791-f381-49ae-ecf3-4db1b514346a"
      },
      "source": [
        "import matplotlib.pyplot as plt\n",
        "\n",
        "plt.plot(history.history['acc'])\n",
        "plt.plot(history.history['val_acc'])\n",
        "\n",
        "plt.title('model accuracy')\n",
        "plt.ylabel('accuracy')\n",
        "plt.xlabel('epoch')\n",
        "plt.legend(['train','test'], loc = 'upper left')\n",
        "plt.show()\n",
        "\n",
        "plt.plot(history.history['loss'])\n",
        "plt.plot(history.history['val_loss'])\n",
        "\n",
        "plt.title('model loss')\n",
        "plt.ylabel('loss')\n",
        "plt.xlabel('epoch')\n",
        "plt.legend(['train','test'], loc = 'upper left')\n",
        "plt.show()"
      ],
      "execution_count": 61,
      "outputs": [
        {
          "output_type": "display_data",
          "data": {
            "image/png": "[encoded data removed]",
            "text/plain": [
              "<Figure size 432x288 with 1 Axes>"
            ]
          },
          "metadata": {
            "tags": [],
            "needs_background": "light"
          }
        },
        {
          "output_type": "display_data",
          "data": {
            "image/png": "[encoded data removed]",
            "text/plain": [
              "<Figure size 432x288 with 1 Axes>"
            ]
          },
          "metadata": {
            "tags": [],
            "needs_background": "light"
          }
        }
      ]
    },
    {
      "cell_type": "markdown",
      "metadata": {
        "id": "CLExTSfGLubr",
        "colab_type": "text"
      },
      "source": [
        "### **Text Classification with a Convolutional Neural Network**"
      ]
    },
    {
      "cell_type": "code",
      "metadata": {
        "id": "s0o40CeCL8Uf",
        "colab_type": "code",
        "colab": {}
      },
      "source": [
        "from keras.datasets import imdb\n",
        "from keras.models import Sequential\n",
        "from keras.layers import Dense\n",
        "from keras.layers import Flatten\n",
        "from keras.layers.convolutional import Conv1D\n",
        "from keras.layers.convolutional import MaxPooling1D\n",
        "from keras.layers.embeddings import Embedding\n",
        "from keras.preprocessing import sequence"
      ],
      "execution_count": 0,
      "outputs": []
    },
    {
      "cell_type": "code",
      "metadata": {
        "id": "cvDUdakBL_7I",
        "colab_type": "code",
        "colab": {}
      },
      "source": [
        "model = Sequential()\n",
        "\n",
        "embedding_layer = Embedding(vocab_size, 100, weights=[embedding_matrix], input_length=maxlen , trainable=False)\n",
        "model.add(embedding_layer)\n",
        "\n",
        "model.add(Conv1D(128, 5, activation='relu'))\n",
        "model.add(GlobalMaxPooling1D())\n",
        "model.add(Dense(1, activation='sigmoid'))\n",
        "model.compile(optimizer='adam', loss='binary_crossentropy', metrics=['acc'])"
      ],
      "execution_count": 0,
      "outputs": []
    },
    {
      "cell_type": "code",
      "metadata": {
        "id": "H_Bqi78YMClx",
        "colab_type": "code",
        "colab": {
          "base_uri": "https://localhost:8080/",
          "height": 306
        },
        "outputId": "d0bce87b-eead-4d16-f8c5-767577e40be3"
      },
      "source": [
        "print(model.summary())"
      ],
      "execution_count": 64,
      "outputs": [
        {
          "output_type": "stream",
          "text": [
            "Model: \"sequential_6\"\n",
            "_________________________________________________________________\n",
            "Layer (type)                 Output Shape              Param #   \n",
            "=================================================================\n",
            "embedding_6 (Embedding)      (None, 100, 100)          90200     \n",
            "_________________________________________________________________\n",
            "conv1d_1 (Conv1D)            (None, 96, 128)           64128     \n",
            "_________________________________________________________________\n",
            "global_max_pooling1d_1 (Glob (None, 128)               0         \n",
            "_________________________________________________________________\n",
            "dense_2 (Dense)              (None, 1)                 129       \n",
            "=================================================================\n",
            "Total params: 154,457\n",
            "Trainable params: 64,257\n",
            "Non-trainable params: 90,200\n",
            "_________________________________________________________________\n",
            "None\n"
          ],
          "name": "stdout"
        }
      ]
    },
    {
      "cell_type": "code",
      "metadata": {
        "id": "6zDnafmzMFSs",
        "colab_type": "code",
        "colab": {
          "base_uri": "https://localhost:8080/",
          "height": 275
        },
        "outputId": "00c3841b-1164-4625-fea4-995e70243104"
      },
      "source": [
        "history = model.fit(X_train, y_train, batch_size=10, epochs=6, verbose=1, validation_split=0.2)\n",
        "\n",
        "score = model.evaluate(X_test, y_test, verbose=1)"
      ],
      "execution_count": 65,
      "outputs": [
        {
          "output_type": "stream",
          "text": [
            "Train on 90 samples, validate on 23 samples\n",
            "Epoch 1/6\n",
            "90/90 [==============================] - 0s 3ms/step - loss: 0.6294 - acc: 0.6556 - val_loss: 0.4902 - val_acc: 0.7826\n",
            "Epoch 2/6\n",
            "90/90 [==============================] - 0s 1ms/step - loss: 0.3346 - acc: 0.8556 - val_loss: 0.5959 - val_acc: 0.7826\n",
            "Epoch 3/6\n",
            "90/90 [==============================] - 0s 1ms/step - loss: 0.2748 - acc: 0.9556 - val_loss: 0.4459 - val_acc: 0.7826\n",
            "Epoch 4/6\n",
            "90/90 [==============================] - 0s 1ms/step - loss: 0.1822 - acc: 0.9778 - val_loss: 0.4895 - val_acc: 0.8696\n",
            "Epoch 5/6\n",
            "90/90 [==============================] - 0s 1ms/step - loss: 0.1333 - acc: 1.0000 - val_loss: 0.4086 - val_acc: 0.7826\n",
            "Epoch 6/6\n",
            "90/90 [==============================] - 0s 1ms/step - loss: 0.1034 - acc: 1.0000 - val_loss: 0.4103 - val_acc: 0.8261\n",
            "29/29 [==============================] - 0s 348us/step\n"
          ],
          "name": "stdout"
        }
      ]
    },
    {
      "cell_type": "code",
      "metadata": {
        "id": "mewj-BmOMXl1",
        "colab_type": "code",
        "colab": {
          "base_uri": "https://localhost:8080/",
          "height": 51
        },
        "outputId": "eae22388-fe8e-45e9-c020-3cdc0e09322e"
      },
      "source": [
        "print(\"Test Score:\", score[0])\n",
        "print(\"Test Accuracy:\", score[1])"
      ],
      "execution_count": 66,
      "outputs": [
        {
          "output_type": "stream",
          "text": [
            "Test Score: 0.5295665860176086\n",
            "Test Accuracy: 0.8275862336158752\n"
          ],
          "name": "stdout"
        }
      ]
    },
    {
      "cell_type": "code",
      "metadata": {
        "id": "aCJDBPgvMcmO",
        "colab_type": "code",
        "colab": {
          "base_uri": "https://localhost:8080/",
          "height": 573
        },
        "outputId": "603f5359-96d5-4eff-8cb5-ce96fb5393a9"
      },
      "source": [
        "import matplotlib.pyplot as plt\n",
        "\n",
        "plt.plot(history.history['acc'])\n",
        "plt.plot(history.history['val_acc'])\n",
        "\n",
        "plt.title('model accuracy')\n",
        "plt.ylabel('accuracy')\n",
        "plt.xlabel('epoch')\n",
        "plt.legend(['train','test'], loc = 'upper left')\n",
        "plt.show()\n",
        "\n",
        "plt.plot(history.history['loss'])\n",
        "plt.plot(history.history['val_loss'])\n",
        "\n",
        "plt.title('model loss')\n",
        "plt.ylabel('loss')\n",
        "plt.xlabel('epoch')\n",
        "plt.legend(['train','test'], loc = 'upper left')\n",
        "plt.show()"
      ],
      "execution_count": 67,
      "outputs": [
        {
          "output_type": "display_data",
          "data": {
            "image/png": "[encoded data removed]",
            "text/plain": [
              "<Figure size 432x288 with 1 Axes>"
            ]
          },
          "metadata": {
            "tags": [],
            "needs_background": "light"
          }
        },
        {
          "output_type": "display_data",
          "data": {
            "image/png": "[encoded data removed]",
            "text/plain": [
              "<Figure size 432x288 with 1 Axes>"
            ]
          },
          "metadata": {
            "tags": [],
            "needs_background": "light"
          }
        }
      ]
    },
    {
      "cell_type": "code",
      "metadata": {
        "id": "TNqUbirQYPJY",
        "colab_type": "code",
        "colab": {
          "base_uri": "https://localhost:8080/",
          "height": 170
        },
        "outputId": "7ad0099a-d2ef-419f-f994-3fab4bd08b13"
      },
      "source": [
        "from sklearn.metrics import classification_report\n",
        "print(classification_report(y_test,y_pred))"
      ],
      "execution_count": 68,
      "outputs": [
        {
          "output_type": "stream",
          "text": [
            "              precision    recall  f1-score   support\n",
            "\n",
            "           0       0.25      0.25      0.25         4\n",
            "           1       0.88      0.88      0.88        25\n",
            "\n",
            "    accuracy                           0.79        29\n",
            "   macro avg       0.56      0.56      0.56        29\n",
            "weighted avg       0.79      0.79      0.79        29\n",
            "\n"
          ],
          "name": "stdout"
        }
      ]
    },
    {
      "cell_type": "markdown",
      "metadata": {
        "id": "V3FlGYiXMnvv",
        "colab_type": "text"
      },
      "source": [
        "### **Text Classification with Recurrent Neural Network (LSTM)**\n",
        "\n"
      ]
    },
    {
      "cell_type": "code",
      "metadata": {
        "id": "_9QckuMSMqiv",
        "colab_type": "code",
        "colab": {}
      },
      "source": [
        "from keras.layers.recurrent import LSTM"
      ],
      "execution_count": 0,
      "outputs": []
    },
    {
      "cell_type": "code",
      "metadata": {
        "id": "-25fryh5MsRB",
        "colab_type": "code",
        "colab": {}
      },
      "source": [
        "model = Sequential()\n",
        "embedding_layer = Embedding(vocab_size, 100, weights=[embedding_matrix], input_length=maxlen , trainable=False)\n",
        "model.add(embedding_layer)\n",
        "model.add(LSTM(128))\n",
        "\n",
        "model.add(Dense(1, activation='sigmoid'))\n",
        "model.compile(optimizer='adam', loss='binary_crossentropy', metrics=['acc'])"
      ],
      "execution_count": 0,
      "outputs": []
    },
    {
      "cell_type": "code",
      "metadata": {
        "id": "M_M2K0FPMu_d",
        "colab_type": "code",
        "colab": {
          "base_uri": "https://localhost:8080/",
          "height": 272
        },
        "outputId": "d340d1df-a6e0-470c-8b1c-b9a2f0488aa7"
      },
      "source": [
        "print(model.summary())"
      ],
      "execution_count": 71,
      "outputs": [
        {
          "output_type": "stream",
          "text": [
            "Model: \"sequential_7\"\n",
            "_________________________________________________________________\n",
            "Layer (type)                 Output Shape              Param #   \n",
            "=================================================================\n",
            "embedding_7 (Embedding)      (None, 100, 100)          90200     \n",
            "_________________________________________________________________\n",
            "lstm_1 (LSTM)                (None, 128)               117248    \n",
            "_________________________________________________________________\n",
            "dense_3 (Dense)              (None, 1)                 129       \n",
            "=================================================================\n",
            "Total params: 207,577\n",
            "Trainable params: 117,377\n",
            "Non-trainable params: 90,200\n",
            "_________________________________________________________________\n",
            "None\n"
          ],
          "name": "stdout"
        }
      ]
    },
    {
      "cell_type": "code",
      "metadata": {
        "id": "Pe294kwSMxNC",
        "colab_type": "code",
        "colab": {
          "base_uri": "https://localhost:8080/",
          "height": 275
        },
        "outputId": "27e2ab8c-9b28-4e82-88fa-ad74b1524296"
      },
      "source": [
        "history = model.fit(X_train, y_train, batch_size=128, epochs=6, verbose=1, validation_split=0.2)\n",
        "\n",
        "score = model.evaluate(X_test, y_test, verbose=1)"
      ],
      "execution_count": 72,
      "outputs": [
        {
          "output_type": "stream",
          "text": [
            "Train on 90 samples, validate on 23 samples\n",
            "Epoch 1/6\n",
            "90/90 [==============================] - 1s 10ms/step - loss: 0.6918 - acc: 0.5333 - val_loss: 0.6784 - val_acc: 0.7826\n",
            "Epoch 2/6\n",
            "90/90 [==============================] - 0s 4ms/step - loss: 0.6849 - acc: 0.7111 - val_loss: 0.6601 - val_acc: 0.7826\n",
            "Epoch 3/6\n",
            "90/90 [==============================] - 0s 4ms/step - loss: 0.6773 - acc: 0.7111 - val_loss: 0.6452 - val_acc: 0.7826\n",
            "Epoch 4/6\n",
            "90/90 [==============================] - 0s 4ms/step - loss: 0.6714 - acc: 0.7111 - val_loss: 0.6304 - val_acc: 0.7826\n",
            "Epoch 5/6\n",
            "90/90 [==============================] - 0s 3ms/step - loss: 0.6655 - acc: 0.7111 - val_loss: 0.6147 - val_acc: 0.7826\n",
            "Epoch 6/6\n",
            "90/90 [==============================] - 0s 4ms/step - loss: 0.6588 - acc: 0.7111 - val_loss: 0.5960 - val_acc: 0.7826\n",
            "29/29 [==============================] - 0s 1ms/step\n"
          ],
          "name": "stdout"
        }
      ]
    },
    {
      "cell_type": "code",
      "metadata": {
        "id": "jKsmtltsM0O_",
        "colab_type": "code",
        "colab": {
          "base_uri": "https://localhost:8080/",
          "height": 51
        },
        "outputId": "cdfd2a46-8c5e-4038-e25b-afd253eeab05"
      },
      "source": [
        "print(\"Test Score:\", score[0])\n",
        "print(\"Test Accuracy:\", score[1])"
      ],
      "execution_count": 73,
      "outputs": [
        {
          "output_type": "stream",
          "text": [
            "Test Score: 0.6382095217704773\n",
            "Test Accuracy: 0.8620689511299133\n"
          ],
          "name": "stdout"
        }
      ]
    },
    {
      "cell_type": "code",
      "metadata": {
        "id": "UvhO9rmGM6IX",
        "colab_type": "code",
        "colab": {
          "base_uri": "https://localhost:8080/",
          "height": 573
        },
        "outputId": "ebd7a443-ccd4-4f5a-bd6c-d1f7dad1c697"
      },
      "source": [
        "import matplotlib.pyplot as plt\n",
        "\n",
        "plt.plot(history.history['acc'])\n",
        "plt.plot(history.history['val_acc'])\n",
        "\n",
        "plt.title('model accuracy')\n",
        "plt.ylabel('accuracy')\n",
        "plt.xlabel('epoch')\n",
        "plt.legend(['train','test'], loc='upper left')\n",
        "plt.show()\n",
        "\n",
        "plt.plot(history.history['loss'])\n",
        "plt.plot(history.history['val_loss'])\n",
        "\n",
        "plt.title('model loss')\n",
        "plt.ylabel('loss')\n",
        "plt.xlabel('epoch')\n",
        "plt.legend(['train','test'], loc='upper left')\n",
        "plt.show()"
      ],
      "execution_count": 74,
      "outputs": [
        {
          "output_type": "display_data",
          "data": {
            "image/png": "[encoded data removed]",
            "text/plain": [
              "<Figure size 432x288 with 1 Axes>"
            ]
          },
          "metadata": {
            "tags": [],
            "needs_background": "light"
          }
        },
        {
          "output_type": "display_data",
          "data": {
            "image/png": "[encoded data removed]",
            "text/plain": [
              "<Figure size 432x288 with 1 Axes>"
            ]
          },
          "metadata": {
            "tags": [],
            "needs_background": "light"
          }
        }
      ]
    },
    {
      "cell_type": "markdown",
      "metadata": {
        "id": "D9O9KACjX88W",
        "colab_type": "text"
      },
      "source": [
        "Precision, recall and F-measure by using LSTM ![alt text](https://)"
      ]
    },
    {
      "cell_type": "code",
      "metadata": {
        "id": "ImgroPhUMBDM",
        "colab_type": "code",
        "colab": {
          "base_uri": "https://localhost:8080/",
          "height": 170
        },
        "outputId": "3813bc4a-a0d5-4806-fb79-4320250701a1"
      },
      "source": [
        "from sklearn.metrics import classification_report\n",
        "print(classification_report(y_test,y_pred))"
      ],
      "execution_count": 75,
      "outputs": [
        {
          "output_type": "stream",
          "text": [
            "              precision    recall  f1-score   support\n",
            "\n",
            "           0       0.25      0.25      0.25         4\n",
            "           1       0.88      0.88      0.88        25\n",
            "\n",
            "    accuracy                           0.79        29\n",
            "   macro avg       0.56      0.56      0.56        29\n",
            "weighted avg       0.79      0.79      0.79        29\n",
            "\n"
          ],
          "name": "stdout"
        }
      ]
    },
    {
      "cell_type": "markdown",
      "metadata": {
        "id": "DyVolZzyNJBk",
        "colab_type": "text"
      },
      "source": [
        "### **[By Using BERT](https://)**"
      ]
    },
    {
      "cell_type": "code",
      "metadata": {
        "id": "b8Sbsxf1N069",
        "colab_type": "code",
        "colab": {}
      },
      "source": [
        "\n",
        "reviews = []\n",
        "sentences=list(caselaw['Sentence'])\n",
        "for sen in sentences:\n",
        "  reviews.append(preprocess_text(sen))"
      ],
      "execution_count": 0,
      "outputs": []
    },
    {
      "cell_type": "code",
      "metadata": {
        "id": "PGVqGvp0VW02",
        "colab_type": "code",
        "colab": {
          "base_uri": "https://localhost:8080/",
          "height": 1000
        },
        "outputId": "43b1989c-6a4c-468c-f765-7828dd0b7b5e"
      },
      "source": [
        "reviews"
      ],
      "execution_count": 77,
      "outputs": [
        {
          "output_type": "execute_result",
          "data": {
            "text/plain": [
              "['The Examining Attorney has preliminarily refused registration of Applicant Mark under Section of the Lanham Act on the grounds that Applicant Mark when used on or in connection with the identified soods is likely to be confused with two football helmet design marks that are the subjects of S Registration No and S Registration No the Cited Marks for goods and services in various classes which are owned by Green Bay Packers Inc Lombardi Ave Green Bay Wisconsin Green Bay ',\n",
              " 'Applicant respectfully requests that the Examining Attorney reconsider his preliminary conclusions regarding likelihood of confusion based on similarity of the marks and or relatedness of goods ',\n",
              " 'As discussed more fully below confusion between Applicant Mark and the Cited Marks is not likely for number ofreasons ',\n",
              " 'First Applicant and Green Bay long standing concurrent use of one version of their respective marks for more than years and use of modernized versions of their respective marks for more than years for the same goods and services confirms that confusion is not likely ',\n",
              " 'Importantly in Applicant and Green Bay entered into an Agreement that recognizes this longstanding concurrent use and describ es the means by which the University and Green Bay have in the past and will continue in the future to avoid confusion between the uses of their respective marks ',\n",
              " 'The empirical evidence of absence of any likelihood of confusion is not surprising particularly given the large number of marks incorporating football helmets for wide variety of goods and services including the goods identified in the Subject Application ',\n",
              " 'These multiple registrations and third party uses coexist on the Principal Register and in the marketplace ',\n",
              " 'Furthennore Applicant Mark and the Cited Marks both for goods and services offered by sports teams are marketed in manner and to sophisticated buyers such that confusion is not likely ',\n",
              " 'In fact the marks at issue are dissimilar because each is used with the two entities team colors which are dissimilar ',\n",
              " 'As claimed in the Subject Application Applicant is the owner of S Registration No for the mark and Design Applicant Existing Registration depicted below for use with services in International Class ',\n",
              " 'Applicant Existing Registration was obtained in and has become incontestible ',\n",
              " 'The first use of the mark in Applicant Existing Registration was and the registered mark depicts Applicant Mark football helmet featuring an oval shaped which was lined to indicate that the helmet is colored red in manner typical of football helmets in the ',\n",
              " ' As is common with trademarks and service marks in general and particularly with sports tea marks as evidenced by the Green Bay marks as noted below Applicant began using modernized version of Applicant Mark in that depicted the same mark red football helmet featuring an oval shaped updated to reflect the look of modem football helmet ',\n",
              " 'Applicant Mark in its original and modernized versions are set forth below Applicant Mark ca S Registration No July Applicant Mark ca S Application No File Serial No Law Office Examining Attorney Won Oh',\n",
              " 'In an almost identical sequence of events in Green Bay obtained S Registration No for the mark and Design for use with services in International Class the Green Bay mark as depicted below ',\n",
              " 'The claimed first use of the Green Bay mark was and that mark also depicts football helmet in manner typical of football helmets in the ',\n",
              " 'Following the common practice Green Bay also began using modernized version of its mark and in obtained S Registration No for use on goods in International Classes and the Green Bay Ir mark as depicted below which depicted its mark updated to reflect the look of modem football helmet ',\n",
              " 'The Green Bay II mark is lined for the colors green and yellow ',\n",
              " 'The Green Bay marks are set forth below Green Bay ca S Registration No Green Bay II ca S Registration No ',\n",
              " 'In the course of obtaining Applicant Existing Registration Applicant and Green Bay entered into an Agreement whereby Green Bay consented to the registration of the original version of Applicant Mark ',\n",
              " 'The consent to registration agreement applies with equal force to the applied for mark in the Subject Application which is merely modernization of the mark in Applicant Existing Registration ',\n",
              " 'See M P Mere changes in background or styling or modernization are not ordinarily considered to be material changes in the mark ',\n",
              " 'The Trademark Office has confirmed this fact in renewing Applicant Existing Registration Applicant submitted specimens of use depicting the modernized version of Applicant Mark File Serial No Law Office Examining Attorney Woo Oh where were accepted as specimens of use in commerce of the registered mark ',\n",
              " 'See Combined Declaration Of Use In Commerce And Application For Renewal Of Registration Of Mark Under And attached hereto as Exhibit Notice Of Acceptance and Notice Of Renewal attached hereto as Exhibit Accordingly Applicant has submitted Request To Amend Applicant Existing Registration under Section to amend the mark in the registration to agree with the modernized mark currently used and accepted by the Trademark Office ',\n",
              " 'A true and correct copy of said Request To Amend is attached hereto as Exhibit ',\n",
              " 'Of course as is often the case Applicant has long used Applicant Mark not only in connection with the services recited in Applicant Existing Registration but also on or in connection with various goods including but not limited to those identified in the Subject Application ',\n",
              " 'In response to the Subject Application to register Applicant Mark for use on or in connection with the identified goods the Examining Attorney has suggested that Applicant Mark may be confused with the Green Bay and Green Bay II marks ',\n",
              " 'However the consent to registration and coexistence Agreement between the parties long standing coexistence of Applicant Mark and the Cited Marks on the Principal Register and in the marketplace confirms that confusion is not likely ',\n",
              " 'Because of the common use of football helmet marks the nature of the goods and services involved including particularly the key relationship of those goods and services with specific sports team and other relevant factors confusion is not likely ',\n",
              " 'B No Likelihood Of Confusion ',\n",
              " 'A showing of mere possibility of confusion is not enough substantial likelihood that the public will be confused must be shown ',\n",
              " 'Omaha Nat Bank Citibank D A File Serial No Law Office Examining Attorney Won Ob Supp at USPQ at emphasis added ',\n",
              " 'The Court of Customs and Patent Appeals listed factors to be considered in determining if likelihood of confusion exists under Section ',\n",
              " 'See In re I Du Pont de Nemours Co d S Q C A ',\n",
              " 'According to the Court the following when of record must be considered in evaluating likelihood of confusion ',\n",
              " ' The conditions under which and buyers to whom sales are made e impulse vs careful sophisticated purchasing ',\n",
              " ' The number and nature of similar marks in use on similar goods ',\n",
              " ' The nature and extent of any actual confusion ',\n",
              " ' The length of time during and conditions under which there has been concurrent use without evidence of actual confusion ',\n",
              " ' The market interface between applicant and the owner of prior mark a mere consent to register or use ',\n",
              " ' agreement provisions designed to preclude confusion e limitations on continued use of the marks by each party ',\n",
              " ' The extent of potential confusion e whether de minimis or substantial ',\n",
              " ' Any other established fact probative of the effect of use ',\n",
              " 'Id d at S Q at emphasis added RALLY for polishing and cleaning agent not likely to be confused with RALLY for all purpose detergent ',\n",
              " 'The relevant circumstances surrounding Applicant Mark in the marketplace include long history of contemporaneous use of Applicant Mark and the Cited Marks more than twenty five years with the Green Bay mark and more than ten years with the Green Bay II mark without any known incidents of confusion ',\n",
              " ' the existence of the consent to registraton and coexistence agreement between the parties ',\n",
              " ' the relative sophistication of purchasers and File Serial No Law Office Examining Attorney Won Oh prospective purchasers including particularly the identification of specific symbols with specific schools ',\n",
              " ' the existence of multiple similar marks including not only design marks but also word marks ',\n",
              " 'and the absence of any intent on the part of Applicant to trade off of another good will ',\n",
              " 'With twenty years of empirical evidence as substantiation fully evaluating all relevant factors confirms that no likelihood of confusion exists between Applicant Mark and the Cited Marks ',\n",
              " 'In this instance even mere possibility can be eliminated and substantial likelihood is unequivocally rebutted the long standing coexistence of the marks and the agreement of the parties confirm that confusion will not occur ',\n",
              " ' Existence Of Consent To Registration And Coexistence Agreement ',\n",
              " 'Applicant respectfully directs the Examining Attorney attention to Applicant claim recited in the Subject Application of ownership of S Registration No for Applicant Mark used in connection with services in International Class which issued July and has now become incontestible ',\n",
              " 'The official file history maintained by the Trademark Office for Applicant Existing Registration includes copy of the Agreement entered into by and between Applicant and Green Bay on July ',\n",
              " 'A true and correct copy of the Agreement as contained in the official files of the Trademark Office is attached hereto as Exhibit ',\n",
              " 'The Agreement provides inter alia in pertinent part ',\n",
              " 'The examiner has requested that the parties submit an agreement describing the means by which the University and Green Bay have in the past and will continue in the future to avoid confusion between the uses of their respective marks ',\n",
              " ' The parties agree that neither party has ever used its mark in connection with the colors of the other party ',\n",
              " ' File Serial No Law Office Examining Attorney Won Oh ',\n",
              " 'Neither party is aware of any instances of actual confusion among football fans which has been caused by the use of the Green Bay Mark or the University Mark during the approximately twenty year period during which the two marks have been used by the parties ',\n",
              " 'Exhibit ff Further each party agreed to use its respective mark in such manner as to avoid confusion with the use by the other party of its mark ',\n",
              " 'Id The parties also agreed to cooperate in program designed to avoid confusion between the Green Bay Mark and the University Mark ',\n",
              " 'Id ',\n",
              " 'The detailed consent to registration and coexistence Agreement between Applicant and Green Bay should be given substantial weight ',\n",
              " 'Du Pont de Nemours d at In the du Pont case the Court of Customs and Patent Appeals stated The weight to be given more detailed agreements should be substantial ',\n",
              " 'It can be safely taken as fundamental that reputable businessmen users of valuable trademarks have no interest in causing public confusion ',\n",
              " ' Thus when those most familiar with use in the marketplace and most interested in precluding confusion enter agreements designed to avoid it the scales of evidence are clearly tilted ',\n",
              " 'It is at least difficult to maintain subjective view that confusion will occur when those directly concerned say it won ',\n",
              " 'A mere assumption that confusion is likely will rarely prevail against uncontroverted evidence from those on the firing line that it is not ',\n",
              " 'Id at ',\n",
              " 'Thus because both Applicant and Green Bay have agreed and promised to use their best efforts to avoid any confusion no likelihood of confusion exists between Applicant Mark and the Cited Marks ',\n",
              " 'See id see also In re Palm Beach Incorporated S Q T B An agreement or letter or consent need not necessarily have provisions similar to those in the agreement in the DuPont case in order to be persuasive citing In re American Management Associations USPQ T B Villanova University Villanova Alumni Educ Found Inc S Q E Pa marks must be examined in the context in which they are found considering the totality of factors that File Serial No Law Office Examining Attorney Won Oh could cause confusion among prospective purchasers use of WILDCAT CLUB mark together with Villanova and other words and images suggested an affiliation with Villanova University ',\n",
              " ' The Complete Absence of Any Evidence of Actual Confusion Despite Twenty Years of Concurrent Use Confirms That Confusion Between the Mar ks is Unlikely ',\n",
              " 'Applicant believes that evidence of the above consent to registration and coexistence Agreement eliminates the grounds for the Examining Attorney preliminary Section refusal ',\n",
              " 'However in further response to the Examining Attorney comments there is no likelihood of confusion between Applicant Mark and the Cited Marks because the concurrent use of marks without actual consumer confusion is evidence that future confusion is unlikely See Du Pont de Nemours d at S Q at see also generally ',\n",
              " 'Restatement Third of Unfair Competition comment at the absence of evidence of actual confusion may indicate that significant confusion is unlikely ',\n",
              " 'Applicant has been using Applicant Mark on or in connection with goods and services since at least while the Green Bay mark has been registered since claiming date of first use in and the Green Bay II mark has been registered since claiming date of first use in ',\n",
              " 'Despite this long period of coexistence in national marketplace Applicant is not aware of single incident of actual or possible confusion during this entire period of concurrent use ',\n",
              " 'This substantial period of concurrent use of Applicant Mark and the Cited Marks without any evidence of actual confusion confirms that confusion is unlikley ',\n",
              " 'See Oreck Corp U Floor Sys Inc d S Q th Cir cert denied S holding that concurrent use for months with no evidence of actual confusion is highly significant evidence that confusion is unlikely Plus Prods Plus File Serial No Law Office Examining Attorney Won Oh Discount Foods Inc d S Q Cir PLUS and Design not confusingly similar to PLUS and Design three years concurrent use is strong indicator that the likelihood of confusion is minimal Lever Bros Co Am Bakeries Co d S Q Cir AUTUMN GRAIN for bread not confusingly similar to AUTUMN for margerine substantial sales of both products over several years without single example of actual confusion becomes significant Affiliated Hosp Prods Inc Merdel Game Mfg Co d S Q Cir KICK ER and KIK IT both for tabletop game not confusingly similar buttressing our conclusion is the finding of the trial judge that there was substantial proof that there was no actual confusion between the products it certainly is proper for the trial judge to infer from the absence of actual confusion that there was no likelihood of confusion Northern Trust Coro Northern Bank Trust Co S Q D Mass after three years of concurrent use plaintiff must show actual confusion in order to overcome the strong presumption that there is little likelihood of confusion Societe Anonyme de La Grande Distillerie Cusenier Fils Aine Cie Julius Wile Sons Co Supp S Q D Y FRAPPEMINT and FREEZOMINT both for creme de menthe cordials not confusingly similar the fact that during the period of over six years of concurrent use no one appears to have been actually deceived is strongly probative that there is no likelihood of deception or confusion In re Palm Beach Inc S Q T B ADLER for pants not confusingly similar to ADLER for knitted socks The fact that the parties have used their marks contemporaneously for more than forty five years without any known instances of confusion is strong evidence that confusion is not likely to occur In re Am Mgmt Assoc S Q T B PERSONNEL for File Serial No Law Office Examining Attorney Won Oh publication not confusingly similar to PERSONNEL JOURNAL for magazine absence of any known instance of actual confusion in more than fifty years of contemporaneous use of marks is strong evidence that confusion is not likely to occur in the future ',\n",
              " ' Applicant Incontestable Registration Supports Publication of the Pending Application ',\n",
              " 'The fact of Applicant existing incontestable registration S Registration No bears directly on the registrability of Applicant Mark for use or or with the goods in the Subject Application ',\n",
              " 'In the analogous context of opposition and cancellation proceedings the Board has acknowledged explicitly that as matter of law the opposer cannot be damaged by the issuance to the applicant of second registration where applicant already has an existing registration of the same mark for the same goods ',\n",
              " 'Morehouse Mfg Co J Strickland Co d S Q C A applying doctrine to marks with trifling difference Joseph Feiss Co Sportempos Inc d S Q C A ',\n",
              " 'Applicant Mark is mere modernization of the mark that is subject of Applicant Existing Registration ',\n",
              " 'This fact has been confirmed by the Trademark Office ',\n",
              " 'MR Empty See Exs C ',\n",
              " 'Although Applicant existing registration is for use with Applicant services and the Subject Application is for use with Applicant goods Applicant has been using Applicant Mark since on goods in connection with the promotion of Applicant services ',\n",
              " 'In fact the specimens of record for use in International Class in the public file maintained by the Patent and Trademark Office associated with the prosecution of Applicant existing registration comprise inter alia catalogs depicting products identified in the Subject Application such as apparel and games on which Applicant Mark is used ',\n",
              " 'Thus if purchasers saw goods on which Applicant Mark was used they would perceive the same long standing identification that has existed with Applicant for more than twenty years if not longer ',\n",
              " ' The Existence of Multiple Similar Marks Explains The Absence of Confusion ',\n",
              " 'A threshold question in every case is the degree of protection afforded registered mark ',\n",
              " 'See King Candy Co Eunice King Kitchen Inc S Q T B affd d S Q C A MISS KING for cake not confusingly similar to KING for candy ',\n",
              " ' he strength and distinctiveness of mark is vital consideration in determining the scope of protection it should be accorded ',\n",
              " 'Amstar Com Domino Piz rn Inc d S Q th Cir cert denied S DOMINO PIZZA not confusingly similar to DOMINO sugar ',\n",
              " 'Well established precedent of both federal courts and the Board consistently has recognized that third parties use of similar marks is evidence of the relative strength of mark ',\n",
              " 'See Shoe Com of Am Juvenile Shoe Corp d S Q C A LAZY PALS and LAZY BONES both for shoes not confusingly similar Nat Motor Bearing Co James Pond Clark d S Q C A CIRCLE SEAL and Sea Lion Design for valves not confusingly similar to Sea Lion Design for rings Wooster Brush Co Prager Brush Co S Q T B POLY FLO for paint brushes POLY PRO and EASY FLO for paint brushes and POLY GLO for paint applicators S Plywood Champion Papers Inc Novagard Com S Q T B NOVACALK for caulk not confusingly similar to NOVI and NOVO family of marks for wall panels and lumber ',\n",
              " ' File Serial No Law Office Examining Attorney Won Oh ',\n",
              " 'Based on the numerous third party uses of football helmet designs Applicant Mark and the Cited Marks are not likely to be confused ',\n",
              " 'A search of the Trademark Office website using the design search code for Football Helmets as set forth in the Office Design Search Code Manual combined with either university or football in the owner name and address field reveals more than registered or applied for marks ',\n",
              " 'See Exhibit ',\n",
              " 'As these numerous and varied registrations demonstrate football helmet design is not unique indicator of origin for goods and services ',\n",
              " 'It is well established that the scope of protection extended to these weak marks has been so limited as to permit the subsequent use and or registration of substantially identical notation ',\n",
              " 'Land Nod Co Paulison S Q T B CHIRO MATIC for mattresses and box springs not likely to be confused with CHIROPRACTIC or CHIRO for the same products Knudsen Sons Inc Vita Pakt Citrus Prods Co d USPQ Fed Cir unpublished VITA JUICE not confusingly similar to VITA PAKT both for fruit juice When the field is crowded with similar marks the scope of protection is correspondingly narrow C Johnson Son Inc Johnson d USPQ Cir cert denied S JOHNSON CLEANER for cleaning fluids not confusingly similar to JOHNSON for waxes and other products ',\n",
              " 'Thus ven close similarity between two marks is not dispositive of the issue of likelihood of confusion ',\n",
              " 'Lever Bros Co Am Bakeries Co d at USPQ at McGregor Doniger Inc Drizzle Inc d at USPQ at Similarity in and of itself is not the acid test ',\n",
              " 'In this instance the marks are dissimilar because the colors of Applicant Mark and the Cited Marks are material features of the marks ',\n",
              " 'The mark that is the subject of Applicant Existing Registration is lined to show that the football helmet is the color red ',\n",
              " 'The Subject Applicantion as amended herein includes statement that the color red on the football helmet is claimed as feature of the mark ',\n",
              " 'In contrast the Green Bay II mark is lined to show that the football helmet is the colors yellow and green ',\n",
              " 'Because each party only uses its respective mark in the colors of its team the marks are dissimilar ',\n",
              " 'Beech Nut Inc Warner Lambert Co Supp D Y In well trodden field small variations are likely to make enough of difference to ward off charges of infringement see also Plus Products Natural Organics Inc S Q T B finding that PLUS marks for vitamins can be used and registered side by side without causing confusion or mistake provided there are minimal differences between the marks ',\n",
              " ' The Careful Conditions Under Which Sales Are Made by Applicant And The Concern And Sophistication of Buyers to Whom Sales Are Made Make Confusion Unlikely ',\n",
              " 'It is well established that likelihood of confusion is diminished where the relevant group of purchasers is sophisticated ',\n",
              " 'See g Champions Golf Club Inc The Champions Golf Club Inc d S Q th Cir ',\n",
              " 'Here confusion between Applicant Mark and the Cited Marks is unlikely because consumers for the relevant goods and services licensed merchandise of specific sports team purchase with significant care ',\n",
              " 'See Universal Money Ctrs Inc AT Co Supp USPQ D Kan average consumer will be aware of the services offered by credit card and will be aware of the source preventing confusion UNNERSAL for combination telephone and retail card not confusingly similar to UNIVERSAL MONEY CARD for ATM card Magniflux Corp Sonoflux Corp d USPQ CCPA confusion is less likely where goods are expensive and purchased after careful consideration SONIZON not likely toe confused with SONOFLUX both for testing apparatus ',\n",
              " ' File Serial No Law Office Examining Attorney Won Oh ',\n",
              " 'The typical consumer for sports teams licensed goods and services carefully seeks goods and services from that particular team as opposed to other teams ',\n",
              " 'In other words the loyalty of purchasers helps assure that the marks will be distinguished and make confusion unlikely ',\n",
              " 'Moreover the primary purchasers of Applicant Goods are students and alumni of the University of Georgia or fans of its collegiate football team whereas the primary purchasers of the Cited Goods are fans of the Green Bay Packers professional football team ',\n",
              " 'Likely consumers of Applicant Goods and the Cited Goods typically will have become cogniz ant of the distinctions between Applicant Goods and the Cited Goods as result of their enthusiasm for these two disparate teams ',\n",
              " 'Therefore any likelihood of confusion between Applicant Mark and the Cited Marks is diminished ',\n",
              " ' Other Evidence Probative on The Issue of Confusion Supports The Conclusion That Confusion Between Applicant Mark And The Cited Marks is Unlikely ',\n",
              " ' ourts regularly include intent as one of the factors to be assessed in evaluating likelihood of confusion ',\n",
              " 'Restatement Third of Unfair Competition reporter note to comment at see also McCarthy Trademarks Unfair Competition at th ed intent is relevant to the issue of likelihood of confusion ',\n",
              " 'In this instance Applicant had no intent to trade upon anyone reputation by adopting and using Applicant Mark including the Cited Marks ',\n",
              " 'In fact as discussed above Applicant Mark has been used for over twenty years concurrently with the Cited Marks ',\n",
              " 'Thus this factor also supports registration of Applicant Mark ',\n",
              " ' File Serial No Law Office Examining Attorney Won Oh II ',\n",
              " 'INFORMALITIES IDENTIFICATION OF GOODS ',\n",
              " 'The Examining Attorney has preliminarily refused registration of Applicant Mark on the basis that the identifications of goods in International Classes and requires clarification ',\n",
              " 'In view thereof Applicant requests that the Examining Attorney delete the present identification of goods in International Class and substitute therefor PRINTED BOOKLETS NEWSLETTERS CATALOGS AND BROCHURES FEATURING INFORMATION OF INTEREST TO STUDENTS FACULTY AND ALUMNI OF THE UNIVERSITY OF GEORGIA DECALS TEMPORARY TATTOOS NOTE PAPER NOTEBOOKS DECORATIVE PAPER FLAGS PAPER BANNERS AND PAPER FOLDERS ',\n",
              " 'Applicant further requests that the Examining Attorney delete the present identification of goods in International Class and substitute therefor CLOTHING NAMELY BOXER SHORTS CAPS COATS FOOTWEAR HATS JACKETS JERSEYS PANTS RAINWEAR SHIRTS SHOES SOCKS SHORTS SWEATPANTS SWEATSHIRTS SWEAT SUITS SWEATERS SHIRTS TIES VISORS AND INFANT WEAR IN THE NATURE OF SHIRTS PANTS SHORTS BIBS SOCKS AND PAJAMAS ',\n",
              " 'Applicant further requests that the Examining Attorney delete the present identification of goods in International Class and substitute therefor ',\n",
              " 'TOYS GAMES AND SPORTING GOODS NAMELY BOARD GAMES STUFFED TOY ANIMALS FOOTBALLS BASKETBALLS SOCCER BALLS BASEBALLS GOLF BALLS GOLF BAGS AND GOLF ACCESSORIES NAMELY GOLF CLUB COVERS GOLF CLUB HEAD COVERS DIVOT REPAIR TOOLS GOLF ACCESSORY POUCHES GOLF BAG COVERS GOLF BAG TAGS GOLF BALL MARKERS GOLF BALL RETRIEVERS GOLF BALL SLEEVES GOLF CLUB GRIPS GOLF CLUB HEADS GOLF CLUB INSERTS GOLF CLUB SHAFTS GOLF GLOVES GOLF PUTTER COVERS File Serial No Law Office Examining Attorney Won Oh GOLF PUTTERS GOLF TEE MARKERS GOLF TEES AND GOLF TOWEL CLIPS FOR ATTACHMENT TO GOLF BAGS AND CHRISTMAS TREE ORNAMENTS ',\n",
              " 'AMENDED DRAWING PAGE Applicant has attached hereto drawing page that has been amended to claim the color red as feature of the mark ',\n",
              " 'On the amended drawing the color red appears on the football helmet ',\n",
              " 'Applicant has submitted amended identifications of goods in International Classes and and an amended drawing page ',\n",
              " 'Applicant believes that the application is now in order and in condition to be published ',\n",
              " 'Therefore Applicant respectfully requests that the Examining Attorney withdraw his preliminary refusal to register Applicant Mark and that he pass the mark to publication at the earliest possible date ',\n",
              " 'Date co Respectfully submitted Thomas Lundin Jr KING SPALDING LLP Peachtree Street Atlanta Georgia Tel Fax Attorneys For Applicant UNIVERSITY OF GEORGIA ATHLETIC ASSOCIATION INC File ']"
            ]
          },
          "metadata": {
            "tags": []
          },
          "execution_count": 77
        }
      ]
    },
    {
      "cell_type": "code",
      "metadata": {
        "id": "UbrR1cqWOe9r",
        "colab_type": "code",
        "colab": {}
      },
      "source": [
        "y=caselaw['ArgNonArg']\n",
        "y=np.array(list(map(lambda x: 1 if x==1 else 0, a)))"
      ],
      "execution_count": 0,
      "outputs": []
    },
    {
      "cell_type": "code",
      "metadata": {
        "id": "QPIkSVcSVleI",
        "colab_type": "code",
        "colab": {
          "base_uri": "https://localhost:8080/",
          "height": 136
        },
        "outputId": "ae5779af-b695-43c2-8570-1ad904ecde28"
      },
      "source": [
        "y"
      ],
      "execution_count": 79,
      "outputs": [
        {
          "output_type": "execute_result",
          "data": {
            "text/plain": [
              "array([0, 0, 0, 1, 1, 1, 1, 1, 1, 0, 0, 0, 1, 1, 1, 1, 1, 1, 1, 1, 1, 1,\n",
              "       1, 1, 1, 1, 1, 0, 0, 0, 0, 0, 0, 0, 0, 0, 0, 0, 0, 0, 0, 0, 0, 0,\n",
              "       1, 1, 1, 1, 1, 1, 1, 1, 1, 1, 1, 1, 1, 1, 1, 1, 1, 1, 1, 1, 1, 1,\n",
              "       1, 1, 1, 1, 1, 1, 0, 1, 1, 1, 1, 1, 1, 1, 1, 1, 1, 1, 1, 1, 0, 1,\n",
              "       1, 1, 1, 1, 1, 1, 1, 1, 1, 1, 1, 1, 1, 1, 1, 1, 1, 1, 1, 1, 1, 1,\n",
              "       1, 1, 1, 1, 1, 1, 1, 1, 1, 1, 1, 1, 1, 0, 0, 1, 0, 0, 0, 0, 1, 1,\n",
              "       1, 1, 1, 1, 1, 1, 0, 0, 0, 0])"
            ]
          },
          "metadata": {
            "tags": []
          },
          "execution_count": 79
        }
      ]
    },
    {
      "cell_type": "markdown",
      "metadata": {
        "id": "ayJjnNYaO9ki",
        "colab_type": "text"
      },
      "source": [
        "Creating a BERT Tokenizer"
      ]
    },
    {
      "cell_type": "code",
      "metadata": {
        "id": "M21wfvlAO3NA",
        "colab_type": "code",
        "colab": {}
      },
      "source": [
        "BertTokenizer = bert.bert_tokenization.FullTokenizer\n",
        "bert_layer = hub.KerasLayer(\"https://tfhub.dev/tensorflow/bert_en_uncased_L-12_H-768_A-12/1\",\n",
        "                            trainable=False)\n",
        "vocabulary_file = bert_layer.resolved_object.vocab_file.asset_path.numpy()\n",
        "to_lower_case = bert_layer.resolved_object.do_lower_case.numpy()\n",
        "tokenizer = BertTokenizer(vocabulary_file, to_lower_case)"
      ],
      "execution_count": 0,
      "outputs": []
    },
    {
      "cell_type": "code",
      "metadata": {
        "id": "2Jy1mjUHPBWD",
        "colab_type": "code",
        "colab": {}
      },
      "source": [
        "def tokenize_reviews(text_reviews):\n",
        "    return tokenizer.convert_tokens_to_ids(tokenizer.tokenize(text_reviews))"
      ],
      "execution_count": 0,
      "outputs": []
    },
    {
      "cell_type": "code",
      "metadata": {
        "id": "5WE7z0toPEI9",
        "colab_type": "code",
        "colab": {}
      },
      "source": [
        "tokenized_reviews = [tokenize_reviews(review) for review in reviews]"
      ],
      "execution_count": 0,
      "outputs": []
    },
    {
      "cell_type": "code",
      "metadata": {
        "id": "Xkuh0snmPGhn",
        "colab_type": "code",
        "colab": {}
      },
      "source": [
        "reviews_with_len = [[review, y[i], len(review)]\n",
        "                 for i, review in enumerate(tokenized_reviews)]"
      ],
      "execution_count": 0,
      "outputs": []
    },
    {
      "cell_type": "code",
      "metadata": {
        "id": "orL4OfwrPM6f",
        "colab_type": "code",
        "colab": {}
      },
      "source": [
        "import random"
      ],
      "execution_count": 0,
      "outputs": []
    },
    {
      "cell_type": "code",
      "metadata": {
        "id": "-iTi8T1CPTHz",
        "colab_type": "code",
        "colab": {}
      },
      "source": [
        "random.shuffle(reviews_with_len)"
      ],
      "execution_count": 0,
      "outputs": []
    },
    {
      "cell_type": "code",
      "metadata": {
        "id": "fVlSwYdIPVWR",
        "colab_type": "code",
        "colab": {}
      },
      "source": [
        "reviews_with_len.sort(key=lambda x: x[2])"
      ],
      "execution_count": 0,
      "outputs": []
    },
    {
      "cell_type": "code",
      "metadata": {
        "id": "pzp67P2pPXtd",
        "colab_type": "code",
        "colab": {}
      },
      "source": [
        "sorted_reviews_labels = [(review_lab[0], review_lab[1]) for review_lab in reviews_with_len]"
      ],
      "execution_count": 0,
      "outputs": []
    },
    {
      "cell_type": "code",
      "metadata": {
        "id": "Rw4DfvOPPZsx",
        "colab_type": "code",
        "colab": {}
      },
      "source": [
        "processed_dataset = tf.data.Dataset.from_generator(lambda: sorted_reviews_labels, output_types=(tf.int32, tf.int32))"
      ],
      "execution_count": 0,
      "outputs": []
    },
    {
      "cell_type": "code",
      "metadata": {
        "id": "yeppwr-7Pb38",
        "colab_type": "code",
        "colab": {}
      },
      "source": [
        "BATCH_SIZE = 32\n",
        "batched_dataset = processed_dataset.padded_batch(BATCH_SIZE, padded_shapes=((None, ), ()))"
      ],
      "execution_count": 0,
      "outputs": []
    },
    {
      "cell_type": "code",
      "metadata": {
        "id": "xRKMOk0rRxEj",
        "colab_type": "code",
        "colab": {
          "base_uri": "https://localhost:8080/",
          "height": 1000
        },
        "outputId": "0910c3e7-5606-4c7a-beed-58ae26330a35"
      },
      "source": [
        "next(iter(batched_dataset))"
      ],
      "execution_count": 90,
      "outputs": [
        {
          "output_type": "execute_result",
          "data": {
            "text/plain": [
              "(<tf.Tensor: shape=(32, 17), dtype=int32, numpy=\n",
              " array([[ 8909,     0,     0,     0,     0,     0,     0,     0,     0,\n",
              "             0,     0,     0,     0,     0,     0,     0,     0],\n",
              "        [ 2156,  8327,     0,     0,     0,     0,     0,     0,     0,\n",
              "             0,     0,     0,     0,     0,     0,     0,     0],\n",
              "        [ 8909,  2012,     0,     0,     0,     0,     0,     0,     0,\n",
              "             0,     0,     0,     0,     0,     0,     0,     0],\n",
              "        [11900,  6447,  8720,  1997,  5350,     0,     0,     0,     0,\n",
              "             0,     0,     0,     0,     0,     0,     0,     0],\n",
              "        [ 1038,  2053, 16593,  1997,  6724,     0,     0,     0,     0,\n",
              "             0,     0,     0,     0,     0,     0,     0,     0],\n",
              "        [ 2720,  4064,  2156,  4654,  2015,  1039,     0,     0,     0,\n",
              "             0,     0,     0,     0,     0,     0,     0,     0],\n",
              "        [ 1996,  3267,  1998,  6698,  1997,  2151,  5025,  6724,     0,\n",
              "             0,     0,     0,     0,     0,     0,     0,     0],\n",
              "        [ 2023,  2755,  2038,  2042,  4484,  2011,  1996, 11749,  2436,\n",
              "             0,     0,     0,     0,     0,     0,     0,     0],\n",
              "        [ 5371,  7642,  2053,  2375,  2436, 12843,  4905,  2180,  2821,\n",
              "             0,     0,     0,     0,     0,     0,     0,     0],\n",
              "        [ 5371,  7642,  2053,  2375,  2436, 12843,  4905,  2180,  2821,\n",
              "             0,     0,     0,     0,     0,     0,     0,     0],\n",
              "        [ 2947,  2023,  5387,  2036,  6753,  8819,  1997, 23761,  2928,\n",
              "             0,     0,     0,     0,     0,     0,     0,     0],\n",
              "        [ 5371,  7642,  2053,  2375,  2436, 12843,  4905,  2180,  2821,\n",
              "             0,     0,     0,     0,     0,     0,     0,     0],\n",
              "        [ 5371,  7642,  2053,  2375,  2436, 12843,  4905,  2180,  2821,\n",
              "          2462,     0,     0,     0,     0,     0,     0,     0],\n",
              "        [ 1996,  4598,  1997,  3674,  2714,  6017,  7607,  1996,  6438,\n",
              "          1997,  6724,     0,     0,     0,     0,     0,     0],\n",
              "        [ 4598,  1997,  9619,  2000,  8819,  1998, 24873,  9048, 16173,\n",
              "          3401,  3820,     0,     0,     0,     0,     0,     0],\n",
              "        [ 1996,  3820,  3640,  6970,  4862,  2050,  1999,  2566, 10196,\n",
              "          3372,  2112,     0,     0,     0,     0,     0,     0],\n",
              "        [ 1996,  6698,  1997,  4022,  6724,  1041,  3251,  2139,  7163,\n",
              "         15630,  2030,  6937,     0,     0,     0,     0,     0],\n",
              "        [ 2006,  1996, 13266,  5059,  1996,  3609,  2417,  3544,  2006,\n",
              "          1996,  2374, 10412,     0,     0,     0,     0,     0],\n",
              "        [ 1996,  2193,  1998,  3267,  1997,  2714,  6017,  1999,  2224,\n",
              "          2006,  2714,  5350,     0,     0,     0,     0,     0],\n",
              "        [23761,  4297, 28040,  9153,  3468,  8819,  6753,  4772,  1997,\n",
              "          1996, 14223,  4646,     0,     0,     0,     0,     0],\n",
              "        [ 2151,  2060,  2511,  2755,  4013, 14479,  3512,  1997,  1996,\n",
              "          3466,  1997,  2224,     0,     0,     0,     0,     0],\n",
              "        [23761,  4493,  8819,  2001,  4663,  1999,  1998,  2038,  2468,\n",
              "          4297, 28040, 16643,  3468,     0,     0,     0,     0],\n",
              "        [ 1996,  2665,  3016,  2462,  2928,  2003,  7732,  2005,  1996,\n",
              "          6087,  2665,  1998,  3756,     0,     0,     0,     0],\n",
              "        [ 3568,  2151, 16593,  1997,  6724,  2090, 23761,  2928,  1998,\n",
              "          1996,  6563,  6017,  2003, 15911,     0,     0,     0],\n",
              "        [ 1037, 11207,  3160,  1999,  2296,  2553,  2003,  1996,  3014,\n",
              "          1997,  3860, 22891,  5068,  2928,     0,     0,     0],\n",
              "        [23761,  7164,  2008,  1996,  4646,  2003,  2085,  1999,  2344,\n",
              "          1998,  1999,  4650,  2000,  2022,  2405,     0,     0],\n",
              "        [23761,  2928,  2003,  8210, 20181,  1997,  1996,  2928,  2008,\n",
              "          2003,  3395,  1997, 23761,  4493,  8819,     0,     0],\n",
              "        [ 1996,  4598,  1997,  3674,  2714,  6017,  2164,  2025,  2069,\n",
              "          2640,  6017,  2021,  2036,  2773,  6017,     0,     0],\n",
              "        [ 2156,  1999,  2128,  1045,  4241, 21179,  2139, 11265, 20360,\n",
              "          2015,  2522,  1040,  1055,  1053,  1039,  1037,     0],\n",
              "        [ 1037,  2995,  1998,  6149,  6100,  1997,  2056,  5227,  2000,\n",
              "         27950,  2003,  4987,  2182,  3406,  2004,  8327,     0],\n",
              "        [ 2429,  2000,  1996,  2457,  1996,  2206,  2043,  1997,  2501,\n",
              "          2442,  2022,  2641,  1999, 23208, 16593,  1997,  6724],\n",
              "        [ 1996,  3785,  2104,  2029,  1998, 17394,  2000,  3183,  4341,\n",
              "          2024,  2081,  1041, 14982,  5443,  6176, 12138, 13131]],\n",
              "       dtype=int32)>, <tf.Tensor: shape=(32,), dtype=int32, numpy=\n",
              " array([1, 1, 1, 1, 0, 0, 0, 1, 1, 1, 0, 1, 0, 1, 1, 1, 0, 1, 0, 1, 0, 0,\n",
              "        1, 1, 1, 0, 1, 1, 0, 1, 0, 0], dtype=int32)>)"
            ]
          },
          "metadata": {
            "tags": []
          },
          "execution_count": 90
        }
      ]
    },
    {
      "cell_type": "code",
      "metadata": {
        "id": "y-IP4czuRSFM",
        "colab_type": "code",
        "colab": {}
      },
      "source": [
        "import math\n",
        "TOTAL_BATCHES = math.ceil(len(sorted_reviews_labels) / BATCH_SIZE)\n",
        "TEST_BATCHES = TOTAL_BATCHES // 10\n",
        "batched_dataset.shuffle(TOTAL_BATCHES)\n",
        "test_data = batched_dataset.take(TEST_BATCHES)\n",
        "train_data = batched_dataset.skip(TEST_BATCHES)"
      ],
      "execution_count": 0,
      "outputs": []
    },
    {
      "cell_type": "code",
      "metadata": {
        "id": "Wl5iY3mEPytf",
        "colab_type": "code",
        "colab": {}
      },
      "source": [
        "class TEXT_MODEL(tf.keras.Model):\n",
        "    \n",
        "    def __init__(self,\n",
        "                 vocabulary_size,\n",
        "                 embedding_dimensions=128,\n",
        "                 cnn_filters=50,\n",
        "                 dnn_units=512,\n",
        "                 model_output_classes=2,\n",
        "                 dropout_rate=0.1,\n",
        "                 training=False,\n",
        "                 name=\"text_model\"):\n",
        "        super(TEXT_MODEL, self).__init__(name=name)\n",
        "        \n",
        "        self.embedding = layers.Embedding(vocabulary_size,\n",
        "                                          embedding_dimensions)\n",
        "        self.cnn_layer1 = layers.Conv1D(filters=cnn_filters,\n",
        "                                        kernel_size=2,\n",
        "                                        padding=\"valid\",\n",
        "                                        activation=\"relu\")\n",
        "        self.cnn_layer2 = layers.Conv1D(filters=cnn_filters,\n",
        "                                        kernel_size=3,\n",
        "                                        padding=\"valid\",\n",
        "                                        activation=\"relu\")\n",
        "        self.cnn_layer3 = layers.Conv1D(filters=cnn_filters,\n",
        "                                        kernel_size=4,\n",
        "                                        padding=\"valid\",\n",
        "                                        activation=\"relu\")\n",
        "        self.pool = layers.GlobalMaxPool1D()\n",
        "        \n",
        "        self.dense_1 = layers.Dense(units=dnn_units, activation=\"relu\")\n",
        "        self.dropout = layers.Dropout(rate=dropout_rate)\n",
        "        if model_output_classes == 2:\n",
        "            self.last_dense = layers.Dense(units=1,\n",
        "                                           activation=\"sigmoid\")\n",
        "        else:\n",
        "            self.last_dense = layers.Dense(units=model_output_classes,\n",
        "                                           activation=\"softmax\")\n",
        "    \n",
        "    def call(self, inputs, training):\n",
        "        l = self.embedding(inputs)\n",
        "        l_1 = self.cnn_layer1(l) \n",
        "        l_1 = self.pool(l_1) \n",
        "        l_2 = self.cnn_layer2(l) \n",
        "        l_2 = self.pool(l_2)\n",
        "        l_3 = self.cnn_layer3(l)\n",
        "        l_3 = self.pool(l_3) \n",
        "        \n",
        "        concatenated = tf.concat([l_1, l_2, l_3], axis=-1) # (batch_size, 3 * cnn_filters)\n",
        "        concatenated = self.dense_1(concatenated)\n",
        "        concatenated = self.dropout(concatenated, training)\n",
        "        model_output = self.last_dense(concatenated)\n",
        "        \n",
        "        return model_output"
      ],
      "execution_count": 0,
      "outputs": []
    },
    {
      "cell_type": "code",
      "metadata": {
        "id": "k6nG9v6iQ-U8",
        "colab_type": "code",
        "colab": {}
      },
      "source": [
        "VOCAB_LENGTH = len(tokenizer.vocab)\n",
        "EMB_DIM = 200\n",
        "CNN_FILTERS = 100\n",
        "DNN_UNITS = 256\n",
        "OUTPUT_CLASSES = 2\n",
        "\n",
        "DROPOUT_RATE = 0.2\n",
        "\n",
        "NB_EPOCHS = 5"
      ],
      "execution_count": 0,
      "outputs": []
    },
    {
      "cell_type": "code",
      "metadata": {
        "id": "eBMp9o5CRFTX",
        "colab_type": "code",
        "colab": {}
      },
      "source": [
        "text_model = TEXT_MODEL(vocabulary_size=VOCAB_LENGTH,\n",
        "                        embedding_dimensions=EMB_DIM,\n",
        "                        cnn_filters=CNN_FILTERS,\n",
        "                        dnn_units=DNN_UNITS,\n",
        "                        model_output_classes=OUTPUT_CLASSES,\n",
        "                        dropout_rate=DROPOUT_RATE)"
      ],
      "execution_count": 0,
      "outputs": []
    },
    {
      "cell_type": "code",
      "metadata": {
        "id": "RZqaQJX7RHtJ",
        "colab_type": "code",
        "colab": {}
      },
      "source": [
        "if OUTPUT_CLASSES == 2:\n",
        "    text_model.compile(loss=\"binary_crossentropy\",\n",
        "                       optimizer=\"adam\",\n",
        "                       metrics=[\"accuracy\"])\n",
        "else:\n",
        "    text_model.compile(loss=\"sparse_categorical_crossentropy\",\n",
        "                       optimizer=\"adam\",\n",
        "                       metrics=[\"sparse_categorical_accuracy\"])"
      ],
      "execution_count": 0,
      "outputs": []
    },
    {
      "cell_type": "code",
      "metadata": {
        "id": "xstXyO5yRKXz",
        "colab_type": "code",
        "colab": {
          "base_uri": "https://localhost:8080/",
          "height": 204
        },
        "outputId": "50ccadf2-7607-44b4-e6d8-cf5df4c2591f"
      },
      "source": [
        "text_model.fit(train_data, epochs=NB_EPOCHS)"
      ],
      "execution_count": 96,
      "outputs": [
        {
          "output_type": "stream",
          "text": [
            "Epoch 1/5\n",
            "5/5 [==============================] - 1s 133ms/step - loss: 0.6013 - accuracy: 0.7324\n",
            "Epoch 2/5\n",
            "5/5 [==============================] - 1s 109ms/step - loss: 0.5191 - accuracy: 0.7535\n",
            "Epoch 3/5\n",
            "5/5 [==============================] - 1s 110ms/step - loss: 0.5115 - accuracy: 0.7535\n",
            "Epoch 4/5\n",
            "5/5 [==============================] - 1s 111ms/step - loss: 0.4969 - accuracy: 0.7535\n",
            "Epoch 5/5\n",
            "5/5 [==============================] - 1s 108ms/step - loss: 0.4605 - accuracy: 0.7535\n"
          ],
          "name": "stdout"
        },
        {
          "output_type": "execute_result",
          "data": {
            "text/plain": [
              "<tensorflow.python.keras.callbacks.History at 0x7fb931f930f0>"
            ]
          },
          "metadata": {
            "tags": []
          },
          "execution_count": 96
        }
      ]
    },
    {
      "cell_type": "code",
      "metadata": {
        "id": "JcJBZ65eRMUO",
        "colab_type": "code",
        "colab": {
          "base_uri": "https://localhost:8080/",
          "height": 51
        },
        "outputId": "352b92da-6581-4ff1-b721-bc17a5ec71a4"
      },
      "source": [
        "print(\"Test Score:\", score[0])\n",
        "print(\"Test Accuracy:\", score[1])"
      ],
      "execution_count": 97,
      "outputs": [
        {
          "output_type": "stream",
          "text": [
            "Test Score: 0.6382095217704773\n",
            "Test Accuracy: 0.8620689511299133\n"
          ],
          "name": "stdout"
        }
      ]
    },
    {
      "cell_type": "code",
      "metadata": {
        "id": "oAUrOb8VWTnV",
        "colab_type": "code",
        "colab": {
          "base_uri": "https://localhost:8080/",
          "height": 573
        },
        "outputId": "e381b9ff-feac-46bf-c45b-122949a2767f"
      },
      "source": [
        "import matplotlib.pyplot as plt\n",
        "\n",
        "plt.plot(history.history['acc'])\n",
        "plt.plot(history.history['val_acc'])\n",
        "\n",
        "plt.title('model accuracy')\n",
        "plt.ylabel('accuracy')\n",
        "plt.xlabel('epoch')\n",
        "plt.legend(['train','test'], loc='upper left')\n",
        "plt.show()\n",
        "\n",
        "plt.plot(history.history['loss'])\n",
        "plt.plot(history.history['val_loss'])\n",
        "\n",
        "plt.title('model loss')\n",
        "plt.ylabel('loss')\n",
        "plt.xlabel('epoch')\n",
        "plt.legend(['train','test'], loc='upper left')\n",
        "plt.show()"
      ],
      "execution_count": 98,
      "outputs": [
        {
          "output_type": "display_data",
          "data": {
            "image/png": "[encoded data removed]",
            "text/plain": [
              "<Figure size 432x288 with 1 Axes>"
            ]
          },
          "metadata": {
            "tags": [],
            "needs_background": "light"
          }
        },
        {
          "output_type": "display_data",
          "data": {
            "image/png": "[encoded data removed]",
            "text/plain": [
              "<Figure size 432x288 with 1 Axes>"
            ]
          },
          "metadata": {
            "tags": [],
            "needs_background": "light"
          }
        }
      ]
    },
    {
      "cell_type": "markdown",
      "metadata": {
        "id": "2QFB1kTjXcGT",
        "colab_type": "text"
      },
      "source": [
        "### **Precision, recall and F-measure by using BERT**"
      ]
    },
    {
      "cell_type": "code",
      "metadata": {
        "id": "3_6YN5krXNgM",
        "colab_type": "code",
        "colab": {
          "base_uri": "https://localhost:8080/",
          "height": 170
        },
        "outputId": "71835392-927d-4164-ec1c-cb4cc52b286c"
      },
      "source": [
        "from sklearn.metrics import classification_report\n",
        "print(classification_report(y_test,y_pred))"
      ],
      "execution_count": 99,
      "outputs": [
        {
          "output_type": "stream",
          "text": [
            "              precision    recall  f1-score   support\n",
            "\n",
            "           0       0.25      0.25      0.25         4\n",
            "           1       0.88      0.88      0.88        25\n",
            "\n",
            "    accuracy                           0.79        29\n",
            "   macro avg       0.56      0.56      0.56        29\n",
            "weighted avg       0.79      0.79      0.79        29\n",
            "\n"
          ],
          "name": "stdout"
        }
      ]
    },
    {
      "cell_type": "code",
      "metadata": {
        "id": "GMG_PDZmXY8v",
        "colab_type": "code",
        "colab": {}
      },
      "source": [
        ""
      ],
      "execution_count": 0,
      "outputs": []
    }
  ]
}